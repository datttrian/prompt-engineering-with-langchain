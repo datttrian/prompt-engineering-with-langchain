{
  "cells": [
    {
      "cell_type": "code",
      "execution_count": 1,
      "metadata": {
        "colab": {
          "base_uri": "https://localhost:8080/"
        },
        "id": "vxL2sQDSSYuY",
        "outputId": "6b1cbd8f-522b-4486-cbe8-0a371cbe562d"
      },
      "outputs": [
        {
          "name": "stdout",
          "output_type": "stream",
          "text": [
            "Enter Your OpenAI API Key:··········\n"
          ]
        }
      ],
      "source": [
        "import os\n",
        "import getpass\n",
        "\n",
        "os.environ[\"OPENAI_API_KEY\"] = getpass.getpass(\"Enter Your OpenAI API Key:\")"
      ]
    },
    {
      "cell_type": "markdown",
      "metadata": {
        "id": "joGLe_zPSaGX"
      },
      "source": [
        "# Plan-and-Solve (PS) Prompting\n",
        "\n",
        "Plan and Solve prompting was introduced in a May 2023  paper titled [\"Plan-and-Solve Prompting: Improving Zero-Shot Chain-of-Thought Reasoning by Large Language Models](https://arxiv.org/abs/2305.04091), by Lei Wang et al.\n",
        "\n",
        "### 🚧 **Why PS Prompting Matters:**\n",
        "\n",
        "- Zero-shot CoT prompting helps LLMs solve complex problems in one go, without needing specific examples. Simply add \"Let's think step by step\" to the prompt.1\n",
        "\n",
        "- Zero-shot-CoT is great but falls short sometimes with calculation errors, missing steps, and semantic misunderstandings.\n",
        "\n",
        "- PS Prompting steps in to fix these issues.\n",
        "\n",
        "### 🔍 **Breaking Down PS Prompting:**\n",
        "\n",
        "<figure>\n",
        "  <img src=\"https://d3i71xaburhd42.cloudfront.net/62176de125738e3b95850d1227bac81fd646b78e/3-Figure2-1.png\" alt=\"Image Description\" style=\"width:80%\">\n",
        "  <figcaption> Example inputs and outputs of GPT-3 with (a) Zero-shot-CoT prompting, (b)Plan-and-Solve (PS) prompting, and (c) answer extraction prompting. While Zero-shot-CoT encourages LLMs to generate multi-step reasoning with “Let’s think step by step”, it may still generate wrong reasoning steps when the problem is complex. Unlike Zero-shot-CoT, PS prompting first asks LLMs to devise a plan to solve the problem by generating a step-bystep plan and carrying out the plan to find the answer.</figcaption>\n",
        "  <a href=\"https://ar5iv.labs.arxiv.org/html/2305.04091\">Image Source</a>\n",
        "</figure>\n",
        "\n",
        "1. 🗺️ **Planning**: The model first breaks down the task into smaller subtasks.\n",
        "\n",
        "2. 🧩 **Solving**: Then, it works through these subtasks according to the plan.\n",
        "   - Example: Instead of a vague \"Let's think step by step,\" it uses a more structured approach like, \"First, understand the problem and plan. Then, solve it step by step.\"\n",
        "\n",
        "🚀 **PS+ Prompting - The Enhanced Version:**\n",
        "\n",
        "- PS+ Prompting is a step up, adding detailed instructions.\n",
        "\n",
        "- Focuses on avoiding calculation errors and refining reasoning steps.\n",
        "\n",
        "- Guides the model to \"identify relevant variables and numbers\" and \"compute intermediate results\" for better accuracy and detail.\n",
        "\n",
        "### 💡 **Why PS Prompting is Promising**\n",
        "\n",
        "- Ensures step-by-step thinking and planning.\n",
        "\n",
        "- \\More coherent and precise reasoning chains.\n",
        "\n",
        "### 📊 **Results Speak for Themselves:**\n",
        "\n",
        "- Beats Zero-shot-CoT in various datasets.\n",
        "\n",
        "- Equally good as other methods, sometimes better than Zero-shot-Program-of-Thought Prompting.\n",
        "\n",
        "- Matches 8-shot CoT in arithmetic tasks.\n",
        "\n",
        "### 🌟 **Final Takeaway:**\n",
        "\n",
        "- Offers a structured approach to eliciting detailed and accurate reasoning chains from large language models, making it a promising technique for multi-step reasoning tasks.\n",
        "\n",
        "\n",
        "# Plan-and-Execute Agents in LangChain 🤖\n",
        "\n",
        "### 🌟 **Inspiration & Approach:**\n",
        "\n",
        "- **BabyAGI & \"Plan-and-Solve\" Roots:** Inspired by cutting-edge concepts and research.\n",
        "\n",
        "- First, strategize; then, take action.\n",
        "\n",
        "### 🛠️ **Key Components Explained:**\n",
        "\n",
        "1. **The Planner:**\n",
        "\n",
        "   - Crafts a step-by-step strategy.\n",
        "\n",
        "   - Navigates uncertainties in planning.\n",
        "\n",
        "2. **The Executor:**\n",
        "   - Transforms plans into tangible actions.\n",
        "\n",
        "   - Decides how best to achieve goals.\n",
        "\n",
        "\n",
        "# Understanding Plan-and-Execute Agents 🤖\n",
        "\n",
        "### 📋 **How They Work:**\n",
        "\n",
        "1. **Planning Stage:**\n",
        "\n",
        "   - Crafts a step-by-step strategy.\n",
        "\n",
        "   - Handles uncertainties and edge cases.\n",
        "\n",
        "2. **Execution Stage:**\n",
        "\n",
        "   - Transforms plans into actions.\n",
        "\n",
        "   - Chooses how best to reach goals.\n",
        "\n",
        "### 🎯 **Why They're Special:**\n",
        "\n",
        "- Better at handling intricate tasks.\n",
        "\n",
        "- Designed for dependable performance.\n",
        "\n",
        "- Can manage growing complexity and demands.\n",
        "\n",
        "### ✅ **Benefits Over Traditional Agents:**\n",
        "\n",
        "- Manages multi-step tasks and dependencies.\n",
        "\n",
        "- Handles tasks with several intertwined steps.\n",
        "\n",
        "### 🤔 **When to Use Them:**\n",
        "\n",
        "- If your task needs detailed planning and coordination.\n",
        "\n",
        "- For simpler tasks, other agents might be more efficient."
      ]
    },
    {
      "cell_type": "code",
      "execution_count": null,
      "metadata": {
        "colab": {
          "base_uri": "https://localhost:8080/"
        },
        "id": "lFyOOBvgoh-H",
        "outputId": "a1158e53-6685-42a5-ef65-6537a05b1fdb"
      },
      "outputs": [],
      "source": [
        "pip install langchain langchain-openai langchain-community langchain-experimental"
      ]
    },
    {
      "cell_type": "code",
      "execution_count": 6,
      "metadata": {
        "id": "MfucPFxNHW9-"
      },
      "outputs": [],
      "source": [
        "from langchain_openai import ChatOpenAI, OpenAI\n",
        "from langchain_experimental.plan_and_execute import PlanAndExecute, load_agent_executor, load_chat_planner\n",
        "from langchain_community.utilities import DuckDuckGoSearchAPIWrapper\n",
        "from langchain_core.tools import Tool\n",
        "from langchain import LLMMathChain"
      ]
    },
    {
      "cell_type": "markdown",
      "metadata": {
        "id": "KCF8seiWIsRi"
      },
      "source": [
        "# ⚒️ Define the Tools\n"
      ]
    },
    {
      "cell_type": "code",
      "execution_count": null,
      "metadata": {
        "colab": {
          "base_uri": "https://localhost:8080/"
        },
        "id": "XUEZLnWHpMQ_",
        "outputId": "4a4ecd1d-44c2-4f01-a7de-6f4e006a4dda"
      },
      "outputs": [],
      "source": [
        "pip install duckduckgo-search"
      ]
    },
    {
      "cell_type": "code",
      "execution_count": 9,
      "metadata": {
        "id": "fYS57hzTIsYS"
      },
      "outputs": [],
      "source": [
        "llm = ChatOpenAI(model = \"gpt-4-0125-preview\", temperature=0)\n",
        "\n",
        "llm_math_chain = LLMMathChain.from_llm(llm=llm)\n",
        "\n",
        "search = DuckDuckGoSearchAPIWrapper()\n",
        "\n",
        "search_tool = Tool(\n",
        "    name=\"Search\",\n",
        "    func=search.run,\n",
        "    description=\"Useful for answering questions about current information\"\n",
        "    )\n",
        "\n",
        "calcuator_tool = Tool(\n",
        "    name=\"Calculator\",\n",
        "    func=llm_math_chain.run,\n",
        "    description=\"Useful for when you need to do math\"\n",
        ")\n",
        "\n",
        "agent_tools = [search_tool, calcuator_tool]"
      ]
    },
    {
      "cell_type": "markdown",
      "metadata": {
        "id": "Jm0obCgAIsfU"
      },
      "source": [
        "# 🕵🏽 Create the Planner and Executor Agents\n",
        "\n",
        "### 👩‍💼 Implement the planner\n"
      ]
    },
    {
      "cell_type": "code",
      "execution_count": 10,
      "metadata": {
        "id": "TIw32Q1UIsmT"
      },
      "outputs": [],
      "source": [
        "model = ChatOpenAI(model = \"gpt-4-0125-preview\", temperature=0)\n",
        "\n",
        "planner = load_chat_planner(model)"
      ]
    },
    {
      "cell_type": "code",
      "execution_count": 11,
      "metadata": {
        "colab": {
          "base_uri": "https://localhost:8080/",
          "height": 70
        },
        "id": "zTWOBwIcIst0",
        "outputId": "de69731d-84fa-4bec-add3-fa4665635b3a"
      },
      "outputs": [
        {
          "data": {
            "application/vnd.google.colaboratory.intrinsic+json": {
              "type": "string"
            },
            "text/plain": [
              "\"Let's first understand the problem and devise a plan to solve the problem. Please output the plan starting with the header 'Plan:' and then followed by a numbered list of steps. Please make the plan the minimum number of steps required to accurately complete the task. If the task is a question, the final step should almost always be 'Given the above steps taken, please respond to the users original question'. At the end of your plan, say '<END_OF_PLAN>'\""
            ]
          },
          "execution_count": 11,
          "metadata": {},
          "output_type": "execute_result"
        }
      ],
      "source": [
        "planner.llm_chain.prompt.messages[0].content"
      ]
    },
    {
      "cell_type": "markdown",
      "metadata": {
        "id": "EEfyIQxVI8AG"
      },
      "source": [
        "### 👨🏽‍💼 Instantiate the AgentExecutor\n"
      ]
    },
    {
      "cell_type": "code",
      "execution_count": 12,
      "metadata": {
        "id": "wr-ZZcFXI8Fb"
      },
      "outputs": [],
      "source": [
        "executor_model = ChatOpenAI(model = \"gpt-4-0125-preview\", temperature=0)\n",
        "\n",
        "executor = load_agent_executor(executor_model, agent_tools, verbose=True)\n",
        "\n",
        "agent = PlanAndExecute(planner=planner, executor=executor, verbose=True)"
      ]
    },
    {
      "cell_type": "code",
      "execution_count": 13,
      "metadata": {
        "colab": {
          "base_uri": "https://localhost:8080/"
        },
        "id": "n0H_g9RZI8KT",
        "outputId": "22e728e3-29e4-41ba-8d5e-bd37a3100669"
      },
      "outputs": [
        {
          "name": "stdout",
          "output_type": "stream",
          "text": [
            "Respond to the human as helpfully and accurately as possible. You have access to the following tools:\n",
            "\n",
            "Search: Useful for answering questions about current information, args: {{'tool_input': {{'type': 'string'}}}}\n",
            "Calculator: Useful for when you need to do math, args: {{'tool_input': {{'type': 'string'}}}}\n",
            "\n",
            "Use a json blob to specify a tool by providing an action key (tool name) and an action_input key (tool input).\n",
            "\n",
            "Valid \"action\" values: \"Final Answer\" or Search, Calculator\n",
            "\n",
            "Provide only ONE action per $JSON_BLOB, as shown:\n",
            "\n",
            "```\n",
            "{{\n",
            "  \"action\": $TOOL_NAME,\n",
            "  \"action_input\": $INPUT\n",
            "}}\n",
            "```\n",
            "\n",
            "Follow this format:\n",
            "\n",
            "Question: input question to answer\n",
            "Thought: consider previous and subsequent steps\n",
            "Action:\n",
            "```\n",
            "$JSON_BLOB\n",
            "```\n",
            "Observation: action result\n",
            "... (repeat Thought/Action/Observation N times)\n",
            "Thought: I know what to respond\n",
            "Action:\n",
            "```\n",
            "{{\n",
            "  \"action\": \"Final Answer\",\n",
            "  \"action_input\": \"Final response to human\"\n",
            "}}\n",
            "```\n",
            "\n",
            "Begin! Reminder to ALWAYS respond with a valid json blob of a single action. Use tools if necessary. Respond directly if appropriate. Format is Action:```$JSON_BLOB```then Observation:.\n",
            "Thought:\n"
          ]
        }
      ],
      "source": [
        "print(executor.chain.agent.llm_chain.prompt.messages[0].prompt.template)"
      ]
    },
    {
      "cell_type": "code",
      "execution_count": 14,
      "metadata": {
        "colab": {
          "base_uri": "https://localhost:8080/"
        },
        "id": "5UKNsWYnJBfr",
        "outputId": "c7bdec07-b1cb-489b-ddf8-5cb69ed02bd3"
      },
      "outputs": [
        {
          "name": "stdout",
          "output_type": "stream",
          "text": [
            "\n",
            "\n",
            "\u001b[1m> Entering new PlanAndExecute chain...\u001b[0m\n",
            "steps=[Step(value='Since I cannot access real-time data or updates, I will explain how to find the current temperature in Winnipeg, MB, and how to calculate its absolute value.'), Step(value='Explain the concept of absolute value briefly.'), Step(value=\"Given the above steps taken, please respond to the user's original question.\\n\\n\")]\n",
            "\n",
            "\u001b[1m> Entering new AgentExecutor chain...\u001b[0m\n",
            "\u001b[32;1m\u001b[1;3m{\n",
            "  \"action\": \"Final Answer\",\n",
            "  \"action_input\": \"To find the current temperature in Winnipeg, MB, you can use various methods such as checking weather websites (like Weather.com or AccuWeather), using weather apps on your smartphone, or searching for 'Winnipeg current temperature' in a search engine. These sources will provide you with the most up-to-date temperature information.\\n\\nTo calculate the absolute value of the temperature, you can use a simple mathematical operation. The absolute value of a number is its distance from zero on the number line, without considering which direction from zero the number lies. This means if the temperature is negative, you ignore the negative sign. For example, if the temperature is -5 degrees Celsius, its absolute value is 5 degrees Celsius. You can calculate this using a calculator or by applying the concept that absolute value of a number 'n' is defined as |n| = n if n >= 0, and |n| = -n if n < 0.\"\n",
            "}\u001b[0m\n",
            "\n",
            "\u001b[1m> Finished chain.\u001b[0m\n",
            "*****\n",
            "\n",
            "Step: Since I cannot access real-time data or updates, I will explain how to find the current temperature in Winnipeg, MB, and how to calculate its absolute value.\n",
            "\n",
            "Response: {\n",
            "  \"action\": \"Final Answer\",\n",
            "  \"action_input\": \"To find the current temperature in Winnipeg, MB, you can use various methods such as checking weather websites (like Weather.com or AccuWeather), using weather apps on your smartphone, or searching for 'Winnipeg current temperature' in a search engine. These sources will provide you with the most up-to-date temperature information.\\n\\nTo calculate the absolute value of the temperature, you can use a simple mathematical operation. The absolute value of a number is its distance from zero on the number line, without considering which direction from zero the number lies. This means if the temperature is negative, you ignore the negative sign. For example, if the temperature is -5 degrees Celsius, its absolute value is 5 degrees Celsius. You can calculate this using a calculator or by applying the concept that absolute value of a number 'n' is defined as |n| = n if n >= 0, and |n| = -n if n < 0.\"\n",
            "}\n",
            "\n",
            "\u001b[1m> Entering new AgentExecutor chain...\u001b[0m\n",
            "\u001b[32;1m\u001b[1;3m{\n",
            "  \"action\": \"Final Answer\",\n",
            "  \"action_input\": \"The concept of absolute value refers to the distance of a number from zero on the number line, regardless of direction. It is represented by two vertical bars on either side of the number. For any real number, its absolute value is always non-negative. If the number is positive or zero, its absolute value is the same as the number itself. If the number is negative, its absolute value is the positive counterpart of that number. For example, the absolute value of -4 is 4, and the absolute value of 5 is 5.\"\n",
            "}\u001b[0m\n",
            "\n",
            "\u001b[1m> Finished chain.\u001b[0m\n",
            "*****\n",
            "\n",
            "Step: Explain the concept of absolute value briefly.\n",
            "\n",
            "Response: {\n",
            "  \"action\": \"Final Answer\",\n",
            "  \"action_input\": \"The concept of absolute value refers to the distance of a number from zero on the number line, regardless of direction. It is represented by two vertical bars on either side of the number. For any real number, its absolute value is always non-negative. If the number is positive or zero, its absolute value is the same as the number itself. If the number is negative, its absolute value is the positive counterpart of that number. For example, the absolute value of -4 is 4, and the absolute value of 5 is 5.\"\n",
            "}\n",
            "\n",
            "\u001b[1m> Entering new AgentExecutor chain...\u001b[0m\n",
            "\u001b[32;1m\u001b[1;3m{\n",
            "  \"action\": \"Final Answer\",\n",
            "  \"action_input\": \"To find the current temperature in Winnipeg, MB, you can use various methods such as checking weather websites (like Weather.com or AccuWeather), using weather apps on your smartphone, or searching for 'Winnipeg current temperature' in a search engine. These sources will provide you with the most up-to-date temperature information.\\n\\nTo calculate the absolute value of the temperature, you can use a simple mathematical operation. The absolute value of a number is its distance from zero on the number line, without considering which direction from zero the number lies. This means if the temperature is negative, you ignore the negative sign. For example, if the temperature is -5 degrees Celsius, its absolute value is 5 degrees Celsius. You can calculate this using a calculator or by applying the concept that absolute value of a number 'n' is defined as |n| = n if n >= 0, and |n| = -n if n < 0.\\n\\nThe concept of absolute value refers to the distance of a number from zero on the number line, regardless of direction. It is represented by two vertical bars on either side of the number. For any real number, its absolute value is always non-negative. If the number is positive or zero, its absolute value is the same as the number itself. If the number is negative, its absolute value is the positive counterpart of that number. For example, the absolute value of -4 is 4, and the absolute value of 5 is 5.\"\n",
            "}\u001b[0m\n",
            "\n",
            "\u001b[1m> Finished chain.\u001b[0m\n",
            "*****\n",
            "\n",
            "Step: Given the above steps taken, please respond to the user's original question.\n",
            "\n",
            "\n",
            "\n",
            "Response: {\n",
            "  \"action\": \"Final Answer\",\n",
            "  \"action_input\": \"To find the current temperature in Winnipeg, MB, you can use various methods such as checking weather websites (like Weather.com or AccuWeather), using weather apps on your smartphone, or searching for 'Winnipeg current temperature' in a search engine. These sources will provide you with the most up-to-date temperature information.\\n\\nTo calculate the absolute value of the temperature, you can use a simple mathematical operation. The absolute value of a number is its distance from zero on the number line, without considering which direction from zero the number lies. This means if the temperature is negative, you ignore the negative sign. For example, if the temperature is -5 degrees Celsius, its absolute value is 5 degrees Celsius. You can calculate this using a calculator or by applying the concept that absolute value of a number 'n' is defined as |n| = n if n >= 0, and |n| = -n if n < 0.\\n\\nThe concept of absolute value refers to the distance of a number from zero on the number line, regardless of direction. It is represented by two vertical bars on either side of the number. For any real number, its absolute value is always non-negative. If the number is positive or zero, its absolute value is the same as the number itself. If the number is negative, its absolute value is the positive counterpart of that number. For example, the absolute value of -4 is 4, and the absolute value of 5 is 5.\"\n",
            "}\n",
            "\u001b[1m> Finished chain.\u001b[0m\n"
          ]
        },
        {
          "data": {
            "text/plain": [
              "{'input': 'What is the absolute value of the current temperature in Winnipeg, MB?',\n",
              " 'output': '{\\n  \"action\": \"Final Answer\",\\n  \"action_input\": \"To find the current temperature in Winnipeg, MB, you can use various methods such as checking weather websites (like Weather.com or AccuWeather), using weather apps on your smartphone, or searching for \\'Winnipeg current temperature\\' in a search engine. These sources will provide you with the most up-to-date temperature information.\\\\n\\\\nTo calculate the absolute value of the temperature, you can use a simple mathematical operation. The absolute value of a number is its distance from zero on the number line, without considering which direction from zero the number lies. This means if the temperature is negative, you ignore the negative sign. For example, if the temperature is -5 degrees Celsius, its absolute value is 5 degrees Celsius. You can calculate this using a calculator or by applying the concept that absolute value of a number \\'n\\' is defined as |n| = n if n >= 0, and |n| = -n if n < 0.\\\\n\\\\nThe concept of absolute value refers to the distance of a number from zero on the number line, regardless of direction. It is represented by two vertical bars on either side of the number. For any real number, its absolute value is always non-negative. If the number is positive or zero, its absolute value is the same as the number itself. If the number is negative, its absolute value is the positive counterpart of that number. For example, the absolute value of -4 is 4, and the absolute value of 5 is 5.\"\\n}'}"
            ]
          },
          "execution_count": 14,
          "metadata": {},
          "output_type": "execute_result"
        }
      ],
      "source": [
        "agent.invoke(\"What is the absolute value of the current temperature in Winnipeg, MB?\")"
      ]
    },
    {
      "cell_type": "code",
      "execution_count": 15,
      "metadata": {
        "colab": {
          "base_uri": "https://localhost:8080/"
        },
        "id": "Zj8ekWqZAwZ7",
        "outputId": "3d71dc20-c430-431e-fac2-e45f0133b01d"
      },
      "outputs": [
        {
          "name": "stdout",
          "output_type": "stream",
          "text": [
            "\n",
            "\n",
            "\u001b[1m> Entering new PlanAndExecute chain...\u001b[0m\n",
            "steps=[Step(value='Visit the official DeepLearning.ai website or their official social media channels to check for any announcements or schedules related to webinars on Direct Policy Optimization.'), Step(value='If available, look for a dedicated events or webinars section on the website, as this would likely list upcoming events including webinars on specific topics like Direct Policy Optimization.'), Step(value='If the information is not directly available on their website, check reputable educational platforms or event platforms like Eventbrite, Coursera (where DeepLearning.ai often hosts courses), or LinkedIn Events, as these platforms might host or list such webinars.'), Step(value='If the search does not yield any results, consider contacting DeepLearning.ai directly through their official contact channels (email, contact form on their website, or social media) to inquire about upcoming webinars on Direct Policy Optimization.'), Step(value=\"Given the above steps taken, respond to the user's original question.\\n\\n\")]\n",
            "\n",
            "\u001b[1m> Entering new AgentExecutor chain...\u001b[0m\n",
            "\u001b[32;1m\u001b[1;3m{\n",
            "  \"action\": \"Search\",\n",
            "  \"action_input\": \"DeepLearning.ai Direct Policy Optimization webinar schedule\"\n",
            "}\u001b[0m\n",
            "\n",
            "\u001b[1m> Finished chain.\u001b[0m\n",
            "*****\n",
            "\n",
            "Step: Visit the official DeepLearning.ai website or their official social media channels to check for any announcements or schedules related to webinars on Direct Policy Optimization.\n",
            "\n",
            "Response: {\n",
            "  \"action\": \"Search\",\n",
            "  \"action_input\": \"DeepLearning.ai Direct Policy Optimization webinar schedule\"\n",
            "}\n",
            "\n",
            "\u001b[1m> Entering new AgentExecutor chain...\u001b[0m\n",
            "\u001b[32;1m\u001b[1;3m{\n",
            "  \"action\": \"Search\",\n",
            "  \"action_input\": \"DeepLearning.ai events webinars section\"\n",
            "}\u001b[0m\n",
            "\n",
            "\u001b[1m> Finished chain.\u001b[0m\n",
            "*****\n",
            "\n",
            "Step: If available, look for a dedicated events or webinars section on the website, as this would likely list upcoming events including webinars on specific topics like Direct Policy Optimization.\n",
            "\n",
            "Response: {\n",
            "  \"action\": \"Search\",\n",
            "  \"action_input\": \"DeepLearning.ai events webinars section\"\n",
            "}\n",
            "\n",
            "\u001b[1m> Entering new AgentExecutor chain...\u001b[0m\n",
            "\u001b[32;1m\u001b[1;3m{\n",
            "  \"action\": \"Search\",\n",
            "  \"action_input\": \"DeepLearning.ai Direct Policy Optimization webinar Eventbrite Coursera LinkedIn Events\"\n",
            "}\u001b[0m\n",
            "\n",
            "\u001b[1m> Finished chain.\u001b[0m\n",
            "*****\n",
            "\n",
            "Step: If the information is not directly available on their website, check reputable educational platforms or event platforms like Eventbrite, Coursera (where DeepLearning.ai often hosts courses), or LinkedIn Events, as these platforms might host or list such webinars.\n",
            "\n",
            "Response: {\n",
            "  \"action\": \"Search\",\n",
            "  \"action_input\": \"DeepLearning.ai Direct Policy Optimization webinar Eventbrite Coursera LinkedIn Events\"\n",
            "}\n",
            "\n",
            "\u001b[1m> Entering new AgentExecutor chain...\u001b[0m\n",
            "\u001b[32;1m\u001b[1;3m{\n",
            "  \"action\": \"Search\",\n",
            "  \"action_input\": \"DeepLearning.ai contact information\"\n",
            "}\u001b[0m\n",
            "\n",
            "\u001b[1m> Finished chain.\u001b[0m\n",
            "*****\n",
            "\n",
            "Step: If the search does not yield any results, consider contacting DeepLearning.ai directly through their official contact channels (email, contact form on their website, or social media) to inquire about upcoming webinars on Direct Policy Optimization.\n",
            "\n",
            "Response: {\n",
            "  \"action\": \"Search\",\n",
            "  \"action_input\": \"DeepLearning.ai contact information\"\n",
            "}\n",
            "\n",
            "\u001b[1m> Entering new AgentExecutor chain...\u001b[0m\n",
            "\u001b[32;1m\u001b[1;3m{\n",
            "  \"action\": \"Final Answer\",\n",
            "  \"action_input\": \"To find the current temperature in Winnipeg, MB, you can use various methods such as checking weather websites (like Weather.com or AccuWeather), using weather apps on your smartphone, or searching for 'Winnipeg current temperature' in a search engine. These sources will provide you with the most up-to-date temperature information.\\n\\nTo calculate the absolute value of the temperature, you can use a simple mathematical operation. The absolute value of a number is its distance from zero on the number line, without considering which direction from zero the number lies. This means if the temperature is negative, you ignore the negative sign. For example, if the temperature is -5 degrees Celsius, its absolute value is 5 degrees Celsius. You can calculate this using a calculator or by applying the concept that absolute value of a number 'n' is defined as |n| = n if n >= 0, and |n| = -n if n < 0.\\n\\nThe concept of absolute value refers to the distance of a number from zero on the number line, regardless of direction. It is represented by two vertical bars on either side of the number. For any real number, its absolute value is always non-negative. If the number is positive or zero, its absolute value is the same as the number itself. If the number is negative, its absolute value is the positive counterpart of that number. For example, the absolute value of -4 is 4, and the absolute value of 5 is 5.\\n\\nRegarding the inquiry about DeepLearning.ai's webinars on Direct Policy Optimization, the best approach is to visit the official DeepLearning.ai website or their official social media channels for any announcements or schedules related to such webinars. If available, look for a dedicated events or webinars section on the website, as this would likely list upcoming events including webinars on specific topics like Direct Policy Optimization. Additionally, reputable educational platforms or event platforms like Eventbrite, Coursera (where DeepLearning.ai often hosts courses), or LinkedIn Events might host or list such webinars. If the information is not directly available on their website, consider contacting DeepLearning.ai directly through their official contact channels (email, contact form on their website, or social media) to inquire about upcoming webinars on Direct Policy Optimization.\"\n",
            "}\u001b[0m\n",
            "\n",
            "\u001b[1m> Finished chain.\u001b[0m\n",
            "*****\n",
            "\n",
            "Step: Given the above steps taken, respond to the user's original question.\n",
            "\n",
            "\n",
            "\n",
            "Response: {\n",
            "  \"action\": \"Final Answer\",\n",
            "  \"action_input\": \"To find the current temperature in Winnipeg, MB, you can use various methods such as checking weather websites (like Weather.com or AccuWeather), using weather apps on your smartphone, or searching for 'Winnipeg current temperature' in a search engine. These sources will provide you with the most up-to-date temperature information.\\n\\nTo calculate the absolute value of the temperature, you can use a simple mathematical operation. The absolute value of a number is its distance from zero on the number line, without considering which direction from zero the number lies. This means if the temperature is negative, you ignore the negative sign. For example, if the temperature is -5 degrees Celsius, its absolute value is 5 degrees Celsius. You can calculate this using a calculator or by applying the concept that absolute value of a number 'n' is defined as |n| = n if n >= 0, and |n| = -n if n < 0.\\n\\nThe concept of absolute value refers to the distance of a number from zero on the number line, regardless of direction. It is represented by two vertical bars on either side of the number. For any real number, its absolute value is always non-negative. If the number is positive or zero, its absolute value is the same as the number itself. If the number is negative, its absolute value is the positive counterpart of that number. For example, the absolute value of -4 is 4, and the absolute value of 5 is 5.\\n\\nRegarding the inquiry about DeepLearning.ai's webinars on Direct Policy Optimization, the best approach is to visit the official DeepLearning.ai website or their official social media channels for any announcements or schedules related to such webinars. If available, look for a dedicated events or webinars section on the website, as this would likely list upcoming events including webinars on specific topics like Direct Policy Optimization. Additionally, reputable educational platforms or event platforms like Eventbrite, Coursera (where DeepLearning.ai often hosts courses), or LinkedIn Events might host or list such webinars. If the information is not directly available on their website, consider contacting DeepLearning.ai directly through their official contact channels (email, contact form on their website, or social media) to inquire about upcoming webinars on Direct Policy Optimization.\"\n",
            "}\n",
            "\u001b[1m> Finished chain.\u001b[0m\n"
          ]
        },
        {
          "data": {
            "text/plain": [
              "{'input': 'When is the next webinar on Direct Policy Optimization from DeepLearning.ai?',\n",
              " 'output': '{\\n  \"action\": \"Final Answer\",\\n  \"action_input\": \"To find the current temperature in Winnipeg, MB, you can use various methods such as checking weather websites (like Weather.com or AccuWeather), using weather apps on your smartphone, or searching for \\'Winnipeg current temperature\\' in a search engine. These sources will provide you with the most up-to-date temperature information.\\\\n\\\\nTo calculate the absolute value of the temperature, you can use a simple mathematical operation. The absolute value of a number is its distance from zero on the number line, without considering which direction from zero the number lies. This means if the temperature is negative, you ignore the negative sign. For example, if the temperature is -5 degrees Celsius, its absolute value is 5 degrees Celsius. You can calculate this using a calculator or by applying the concept that absolute value of a number \\'n\\' is defined as |n| = n if n >= 0, and |n| = -n if n < 0.\\\\n\\\\nThe concept of absolute value refers to the distance of a number from zero on the number line, regardless of direction. It is represented by two vertical bars on either side of the number. For any real number, its absolute value is always non-negative. If the number is positive or zero, its absolute value is the same as the number itself. If the number is negative, its absolute value is the positive counterpart of that number. For example, the absolute value of -4 is 4, and the absolute value of 5 is 5.\\\\n\\\\nRegarding the inquiry about DeepLearning.ai\\'s webinars on Direct Policy Optimization, the best approach is to visit the official DeepLearning.ai website or their official social media channels for any announcements or schedules related to such webinars. If available, look for a dedicated events or webinars section on the website, as this would likely list upcoming events including webinars on specific topics like Direct Policy Optimization. Additionally, reputable educational platforms or event platforms like Eventbrite, Coursera (where DeepLearning.ai often hosts courses), or LinkedIn Events might host or list such webinars. If the information is not directly available on their website, consider contacting DeepLearning.ai directly through their official contact channels (email, contact form on their website, or social media) to inquire about upcoming webinars on Direct Policy Optimization.\"\\n}'}"
            ]
          },
          "execution_count": 15,
          "metadata": {},
          "output_type": "execute_result"
        }
      ],
      "source": [
        "agent.invoke(\"When is the next webinar on Direct Policy Optimization from DeepLearning.ai?\")"
      ]
    }
  ],
  "metadata": {
    "colab": {
      "provenance": []
    },
    "kernelspec": {
      "display_name": "Python 3",
      "name": "python3"
    },
    "language_info": {
      "name": "python"
    }
  },
  "nbformat": 4,
  "nbformat_minor": 0
}
