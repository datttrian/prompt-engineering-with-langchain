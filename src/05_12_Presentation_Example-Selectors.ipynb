{
  "nbformat": 4,
  "nbformat_minor": 0,
  "metadata": {
    "colab": {
      "provenance": []
    },
    "kernelspec": {
      "name": "python3",
      "display_name": "Python 3"
    },
    "language_info": {
      "name": "python"
    }
  },
  "cells": [
    {
      "cell_type": "code",
      "execution_count": 22,
      "metadata": {
        "id": "_3lRnm7gCmQe"
      },
      "outputs": [],
      "source": [
        "%%capture\n",
        "!pip install langchain==0.1.4 openai==1.10.0 langchain-openai tiktoken faiss-cpu"
      ]
    },
    {
      "cell_type": "code",
      "source": [
        "import os\n",
        "import getpass\n",
        "\n",
        "os.environ[\"OPENAI_API_KEY\"] = getpass.getpass(\"Enter Your OpenAI API Key:\")"
      ],
      "metadata": {
        "id": "pP5m6RUcCqpo",
        "colab": {
          "base_uri": "https://localhost:8080/"
        },
        "outputId": "157d836f-8426-43d0-cf9a-0ce5f5a0b53c"
      },
      "execution_count": 5,
      "outputs": [
        {
          "name": "stdout",
          "output_type": "stream",
          "text": [
            "Enter Your OpenAI API Key:··········\n"
          ]
        }
      ]
    },
    {
      "cell_type": "markdown",
      "source": [
        "#🔍 **Example Selectors in Langchain**\n",
        "\n",
        "These are the brains picking the best examples for your prompts.\n",
        "\n",
        "**Key Functions**:\n",
        "\n",
        "- 🧠 **Smart Selection**: They choose which examples to use, based on the current input.\n",
        "\n",
        "- 🎯 **Strategies**: Different methods, like looking for semantic similarity or ensuring diversity.\n",
        "\n",
        "**Types**:\n",
        "\n",
        "- **Semantic Similarity**: Finds examples closest in meaning to the input.\n",
        "\n",
        "- **Maximal Marginal Relevance**: A mix of similarity and variety.\n",
        "\n",
        "- **Prompt Length**: Picks examples to fit a certain length.\n",
        "\n",
        "**Benefits**:\n",
        "\n",
        "- ✨ **Dynamic**: Picks examples on-the-fly, not just a fixed list.\n",
        "\n",
        "- 📏 **Manageable Prompts**: Keeps prompts concise and relevant.\n",
        "\n",
        "**Customization**:\n",
        "- 🛠️ Create your own by inheriting from `BaseExampleSelector`.\n",
        "\n",
        "---\n",
        "\n",
        "📜 **BaseExampleSelector**:\n",
        "- 🗂️ The backbone class that all selectors inherit from.\n",
        "\n",
        "- 🚀 Just define `select_examples` to decide how to pick the best examples.\n",
        "\n",
        "---\n",
        "\n",
        "🎲 **Creating a Random Example Selector**:\n",
        "\n",
        "- **Add & Select**: It should be able to store examples and then pick randomly when prompted.\n",
        "\n",
        "- **Custom Touch**: Craft it to fit your unique prompt crafting needs.\n",
        "\n",
        "This is like teaching your AI to pick the right stories to tell at a party – it's all about relevance and variety!"
      ],
      "metadata": {
        "id": "n7wurWIyEboL"
      }
    },
    {
      "cell_type": "code",
      "source": [
        "from langchain.prompts.example_selector.base import BaseExampleSelector\n",
        "from typing import Dict, List\n",
        "import numpy as np\n",
        "\n",
        "class CustomExampleSelector(BaseExampleSelector):\n",
        "    def __init__(self, examples: List[Dict[str, str]]):\n",
        "        self.examples = examples\n",
        "\n",
        "    def add_example(self, example: Dict[str, str]) -> None:\n",
        "        \"\"\"Add a new example to the list.\"\"\"\n",
        "        self.examples.append(example)\n",
        "\n",
        "    def select_examples(self, input_variables: Dict[str, str]) -> List[dict]:\n",
        "        \"\"\"Randomly select examples based on the provided inputs.\"\"\"\n",
        "        return list(np.random.choice(self.examples, size=2, replace=False))"
      ],
      "metadata": {
        "id": "yyY7tNIHGVHq"
      },
      "execution_count": 23,
      "outputs": []
    },
    {
      "cell_type": "code",
      "source": [
        "examples = [\n",
        "    {\"recipe\": \"Spaghetti Carbonara\"},\n",
        "    {\"recipe\": \"Chicken Alfredo\"},\n",
        "    {\"recipe\": \"Vegetable Stir Fry\"}\n",
        "]"
      ],
      "metadata": {
        "id": "np4JO8sjSwCV"
      },
      "execution_count": 24,
      "outputs": []
    },
    {
      "cell_type": "code",
      "source": [
        "# initialize an example selector\n",
        "example_selector = CustomExampleSelector(examples)"
      ],
      "metadata": {
        "id": "5QTFV1rdTM2R"
      },
      "execution_count": 25,
      "outputs": []
    },
    {
      "cell_type": "markdown",
      "source": [
        "### Example Placeholder:\n",
        "\n",
        "🗂️ The {\"recipe\": \"recipe\"} is just a stand-in to show how the method works—it's not part of the selection process.\n",
        "\n",
        "🛠️ In real use, this would be where the selector looks at the input to make smart choices.\n",
        "\n",
        "But in the provided example, it's not utilized.\n",
        "\n"
      ],
      "metadata": {
        "id": "cdiW8_RRUV9b"
      }
    },
    {
      "cell_type": "code",
      "source": [
        "# randomly select some examples\n",
        "example_selector.select_examples({\"recipe\": \"recipe\"})"
      ],
      "metadata": {
        "id": "U8JZisP5TU9o",
        "colab": {
          "base_uri": "https://localhost:8080/"
        },
        "outputId": "ef412de7-05bb-4f2d-e313-0098a0d9d032"
      },
      "execution_count": 26,
      "outputs": [
        {
          "output_type": "execute_result",
          "data": {
            "text/plain": [
              "[{'recipe': 'Spaghetti Carbonara'}, {'recipe': 'Vegetable Stir Fry'}]"
            ]
          },
          "metadata": {},
          "execution_count": 26
        }
      ]
    },
    {
      "cell_type": "code",
      "source": [
        "# Add a new recipe to the collection\n",
        "example_selector.add_example({\"recipe\": \"Beef Stroganoff\"})\n",
        "print(example_selector.examples)"
      ],
      "metadata": {
        "id": "-Dkp-OvUTtXX",
        "colab": {
          "base_uri": "https://localhost:8080/"
        },
        "outputId": "fc8e29b7-8111-4cf8-d264-304aca41eadd"
      },
      "execution_count": 27,
      "outputs": [
        {
          "output_type": "stream",
          "name": "stdout",
          "text": [
            "[{'recipe': 'Spaghetti Carbonara'}, {'recipe': 'Chicken Alfredo'}, {'recipe': 'Vegetable Stir Fry'}, {'recipe': 'Beef Stroganoff'}]\n"
          ]
        }
      ]
    },
    {
      "cell_type": "code",
      "source": [
        "# Randomly select two recipes again\n",
        "example_selector.select_examples({\"recipe\": \"recipe\"})"
      ],
      "metadata": {
        "id": "StDIUhLJT0xq",
        "colab": {
          "base_uri": "https://localhost:8080/"
        },
        "outputId": "be42685f-fc91-4ff4-c52e-165caac127ab"
      },
      "execution_count": 28,
      "outputs": [
        {
          "output_type": "execute_result",
          "data": {
            "text/plain": [
              "[{'recipe': 'Beef Stroganoff'}, {'recipe': 'Vegetable Stir Fry'}]"
            ]
          },
          "metadata": {},
          "execution_count": 28
        }
      ]
    },
    {
      "cell_type": "markdown",
      "source": [
        "# Select by length\n",
        "\n",
        "Ready for more?\n",
        "\n",
        "Because below you will implement a `LengthBasedExampleSelector` which selects examples based on their length.\n",
        "\n",
        "This is particularly useful when you're worried about the total length of the constructed prompt, especially given the context window limitations of some models."
      ],
      "metadata": {
        "id": "lrh9R0UBT53u"
      }
    },
    {
      "cell_type": "code",
      "source": [
        "from langchain.prompts import PromptTemplate\n",
        "from langchain.prompts import FewShotPromptTemplate\n",
        "from langchain.prompts.example_selector import LengthBasedExampleSelector\n",
        "\n",
        "examples = [\n",
        "    {\"input\": \"caffeinated\", \"output\": \"sleepy\"},\n",
        "    {\"input\": \"spooky\", \"output\": \"cuddly\"},\n",
        "    {\"input\": \"crispy\", \"output\": \"soggy\"},\n",
        "    {\"input\": \"galactic\", \"output\": \"mundane\"},\n",
        "    {\"input\": \"funky\", \"output\": \"plain-jane\"},\n",
        "    {\"input\": \"energetic\", \"output\": \"lethargic\"},\n",
        "    {\"input\": \"mysterious\", \"output\": \"transparent\"},\n",
        "    {\"input\": \"delicious\", \"output\": \"tasteless\"},\n",
        "    {\"input\": \"extravagant\", \"output\": \"simple\"},\n",
        "    {\"input\": \"exhilarating\", \"output\": \"dull\"},\n",
        "    {\"input\": \"mesmerizing\", \"output\": \"uninteresting\"},\n",
        "    {\"input\": \"charismatic\", \"output\": \"ordinary\"},\n",
        "    {\"input\": \"eccentric\", \"output\": \"conventional\"},\n",
        "    {\"input\": \"adventurous\", \"output\": \"cautious\"},\n",
        "    {\"input\": \"breathtaking\", \"output\": \"unremarkable\"},\n",
        "]"
      ],
      "metadata": {
        "id": "CqLxq-6zU54F"
      },
      "execution_count": 29,
      "outputs": []
    },
    {
      "cell_type": "code",
      "source": [
        "example_prompt = PromptTemplate(\n",
        "    input_variables=[\"input\", \"output\"],\n",
        "    template = \"Input: {input}\\nOutput: {output}\"\n",
        ")"
      ],
      "metadata": {
        "id": "--pL90juU8fR"
      },
      "execution_count": 30,
      "outputs": []
    },
    {
      "cell_type": "markdown",
      "source": [
        "# 📏 **LengthBasedExampleSelector Explained**\n",
        "\n",
        "- **Purpose**: Chooses examples to avoid exceeding the model's context limit.\n",
        "- **Process**:\n",
        "   - **Addition**: When examples are added, their lengths are measured and noted.\n",
        "   - **Selection**: When it's time to select, it picks examples that fit within the max prompt length.\n",
        "\n",
        "**How It Operates**:\n",
        "- 🧮 It calculates space left after considering the input length.\n",
        "- ➕ Adds examples until there's no room left, aiming for the perfect fit.\n",
        "\n",
        "In a nutshell, this selector is like a tailor, ensuring the content fits neatly within the model's capacity.\n"
      ],
      "metadata": {
        "id": "wRnjPfOHX9ta"
      }
    },
    {
      "cell_type": "code",
      "source": [
        "example_selector = LengthBasedExampleSelector(\n",
        "    examples=examples,\n",
        "    example_prompt= example_prompt,\n",
        "    max_length=15,\n",
        ")"
      ],
      "metadata": {
        "id": "DPtSWwx6VjRr"
      },
      "execution_count": 31,
      "outputs": []
    },
    {
      "cell_type": "code",
      "source": [
        "dynamic_prompt = FewShotPromptTemplate(\n",
        "    example_selector=example_selector,\n",
        "    example_prompt=example_prompt,\n",
        "    prefix=\"What's the opposite of...\",\n",
        "    suffix=\"Input: {adjective}\\nOutput:\",\n",
        "    input_variables=[\"adjective\"],\n",
        ")"
      ],
      "metadata": {
        "id": "bZyX2kRDVz_R"
      },
      "execution_count": 32,
      "outputs": []
    },
    {
      "cell_type": "code",
      "source": [
        "long_string = \"fluffy and puffy and cloud-like and soft as a marshmallow and as cuddly as a teddy bear in a world of cotton candy\"\n",
        "print(dynamic_prompt.format(adjective=long_string))"
      ],
      "metadata": {
        "id": "XyIeIa3EWBhW",
        "colab": {
          "base_uri": "https://localhost:8080/"
        },
        "outputId": "86c5780c-d7e4-4da4-bb42-008d76dccb57"
      },
      "execution_count": 33,
      "outputs": [
        {
          "output_type": "stream",
          "name": "stdout",
          "text": [
            "What's the opposite of...\n",
            "\n",
            "Input: fluffy and puffy and cloud-like and soft as a marshmallow and as cuddly as a teddy bear in a world of cotton candy\n",
            "Output:\n"
          ]
        }
      ]
    },
    {
      "cell_type": "code",
      "source": [
        "short_string = \"feeling wired\"\n",
        "print(dynamic_prompt.format(adjective=short_string))"
      ],
      "metadata": {
        "colab": {
          "base_uri": "https://localhost:8080/"
        },
        "id": "OqU6vSpvvqnF",
        "outputId": "a53891fa-6475-45c0-91b0-2e4470d720af"
      },
      "execution_count": 34,
      "outputs": [
        {
          "output_type": "stream",
          "name": "stdout",
          "text": [
            "What's the opposite of...\n",
            "\n",
            "Input: caffeinated\n",
            "Output: sleepy\n",
            "\n",
            "Input: spooky\n",
            "Output: cuddly\n",
            "\n",
            "Input: crispy\n",
            "Output: soggy\n",
            "\n",
            "Input: feeling wired\n",
            "Output:\n"
          ]
        }
      ]
    },
    {
      "cell_type": "markdown",
      "source": [
        "# Selecting based on Maximal Marginal Relevance (MMR)\n",
        "\n",
        "🔍 **Maximal Marginal Relevance (MMR) Selection**:\n",
        "\n",
        "- **Goal**: Find a balance in example selection between relevance to the input and diversity among choices.\n",
        "\n",
        "- **Relevance**: Measure how closely each example matches the input query.\n",
        "\n",
        "- **Diversity**: Assess how different each example is from others already chosen.\n",
        "\n",
        "- **MMR Calculation**: Combine relevance and diversity scores to decide each example's overall value. The formula is typically: $$ MMR = \\lambda \\times Relevance - (1 - \\lambda) \\times Diversity $$\n",
        "   \n",
        "\n",
        "- **Selection**: Pick the example with the best MMR score and keep going until you hit your limit or quality drops off.\n",
        "\n",
        "MMR is like a curator artfully choosing exhibits for a gallery, ensuring each piece is compelling but not too similar to the next.\n"
      ],
      "metadata": {
        "id": "Vs7fPTsCWGmr"
      }
    },
    {
      "cell_type": "code",
      "source": [
        "pip install langchain-openai langchain-community"
      ],
      "metadata": {
        "colab": {
          "base_uri": "https://localhost:8080/"
        },
        "id": "ybrjSEa-71eK",
        "outputId": "2a9dc6e5-9c77-4fb4-e6fb-81eff80a0895"
      },
      "execution_count": 38,
      "outputs": [
        {
          "output_type": "stream",
          "name": "stdout",
          "text": [
            "Requirement already satisfied: langchain-openai in /usr/local/lib/python3.10/dist-packages (0.1.7)\n",
            "Collecting langchain-community\n",
            "  Downloading langchain_community-0.2.0-py3-none-any.whl (2.1 MB)\n",
            "\u001b[2K     \u001b[90m━━━━━━━━━━━━━━━━━━━━━━━━━━━━━━━━━━━━━━━━\u001b[0m \u001b[32m2.1/2.1 MB\u001b[0m \u001b[31m14.6 MB/s\u001b[0m eta \u001b[36m0:00:00\u001b[0m\n",
            "\u001b[?25hRequirement already satisfied: langchain-core<0.3,>=0.1.46 in /usr/local/lib/python3.10/dist-packages (from langchain-openai) (0.2.0)\n",
            "Requirement already satisfied: openai<2.0.0,>=1.24.0 in /usr/local/lib/python3.10/dist-packages (from langchain-openai) (1.30.1)\n",
            "Requirement already satisfied: tiktoken<1,>=0.7 in /usr/local/lib/python3.10/dist-packages (from langchain-openai) (0.7.0)\n",
            "Requirement already satisfied: PyYAML>=5.3 in /usr/local/lib/python3.10/dist-packages (from langchain-community) (6.0.1)\n",
            "Requirement already satisfied: SQLAlchemy<3,>=1.4 in /usr/local/lib/python3.10/dist-packages (from langchain-community) (2.0.30)\n",
            "Requirement already satisfied: aiohttp<4.0.0,>=3.8.3 in /usr/local/lib/python3.10/dist-packages (from langchain-community) (3.9.5)\n",
            "Requirement already satisfied: dataclasses-json<0.7,>=0.5.7 in /usr/local/lib/python3.10/dist-packages (from langchain-community) (0.6.6)\n",
            "Requirement already satisfied: langchain<0.3.0,>=0.2.0 in /usr/local/lib/python3.10/dist-packages (from langchain-community) (0.2.0)\n",
            "Requirement already satisfied: langsmith<0.2.0,>=0.1.0 in /usr/local/lib/python3.10/dist-packages (from langchain-community) (0.1.60)\n",
            "Requirement already satisfied: numpy<2,>=1 in /usr/local/lib/python3.10/dist-packages (from langchain-community) (1.25.2)\n",
            "Requirement already satisfied: requests<3,>=2 in /usr/local/lib/python3.10/dist-packages (from langchain-community) (2.31.0)\n",
            "Requirement already satisfied: tenacity<9.0.0,>=8.1.0 in /usr/local/lib/python3.10/dist-packages (from langchain-community) (8.3.0)\n",
            "Requirement already satisfied: aiosignal>=1.1.2 in /usr/local/lib/python3.10/dist-packages (from aiohttp<4.0.0,>=3.8.3->langchain-community) (1.3.1)\n",
            "Requirement already satisfied: attrs>=17.3.0 in /usr/local/lib/python3.10/dist-packages (from aiohttp<4.0.0,>=3.8.3->langchain-community) (23.2.0)\n",
            "Requirement already satisfied: frozenlist>=1.1.1 in /usr/local/lib/python3.10/dist-packages (from aiohttp<4.0.0,>=3.8.3->langchain-community) (1.4.1)\n",
            "Requirement already satisfied: multidict<7.0,>=4.5 in /usr/local/lib/python3.10/dist-packages (from aiohttp<4.0.0,>=3.8.3->langchain-community) (6.0.5)\n",
            "Requirement already satisfied: yarl<2.0,>=1.0 in /usr/local/lib/python3.10/dist-packages (from aiohttp<4.0.0,>=3.8.3->langchain-community) (1.9.4)\n",
            "Requirement already satisfied: async-timeout<5.0,>=4.0 in /usr/local/lib/python3.10/dist-packages (from aiohttp<4.0.0,>=3.8.3->langchain-community) (4.0.3)\n",
            "Requirement already satisfied: marshmallow<4.0.0,>=3.18.0 in /usr/local/lib/python3.10/dist-packages (from dataclasses-json<0.7,>=0.5.7->langchain-community) (3.21.2)\n",
            "Requirement already satisfied: typing-inspect<1,>=0.4.0 in /usr/local/lib/python3.10/dist-packages (from dataclasses-json<0.7,>=0.5.7->langchain-community) (0.9.0)\n",
            "Requirement already satisfied: langchain-text-splitters<0.3.0,>=0.2.0 in /usr/local/lib/python3.10/dist-packages (from langchain<0.3.0,>=0.2.0->langchain-community) (0.2.0)\n",
            "Requirement already satisfied: pydantic<3,>=1 in /usr/local/lib/python3.10/dist-packages (from langchain<0.3.0,>=0.2.0->langchain-community) (2.7.1)\n",
            "Requirement already satisfied: jsonpatch<2.0,>=1.33 in /usr/local/lib/python3.10/dist-packages (from langchain-core<0.3,>=0.1.46->langchain-openai) (1.33)\n",
            "Requirement already satisfied: packaging<24.0,>=23.2 in /usr/local/lib/python3.10/dist-packages (from langchain-core<0.3,>=0.1.46->langchain-openai) (23.2)\n",
            "Requirement already satisfied: orjson<4.0.0,>=3.9.14 in /usr/local/lib/python3.10/dist-packages (from langsmith<0.2.0,>=0.1.0->langchain-community) (3.10.3)\n",
            "Requirement already satisfied: anyio<5,>=3.5.0 in /usr/local/lib/python3.10/dist-packages (from openai<2.0.0,>=1.24.0->langchain-openai) (3.7.1)\n",
            "Requirement already satisfied: distro<2,>=1.7.0 in /usr/lib/python3/dist-packages (from openai<2.0.0,>=1.24.0->langchain-openai) (1.7.0)\n",
            "Requirement already satisfied: httpx<1,>=0.23.0 in /usr/local/lib/python3.10/dist-packages (from openai<2.0.0,>=1.24.0->langchain-openai) (0.27.0)\n",
            "Requirement already satisfied: sniffio in /usr/local/lib/python3.10/dist-packages (from openai<2.0.0,>=1.24.0->langchain-openai) (1.3.1)\n",
            "Requirement already satisfied: tqdm>4 in /usr/local/lib/python3.10/dist-packages (from openai<2.0.0,>=1.24.0->langchain-openai) (4.66.4)\n",
            "Requirement already satisfied: typing-extensions<5,>=4.7 in /usr/local/lib/python3.10/dist-packages (from openai<2.0.0,>=1.24.0->langchain-openai) (4.11.0)\n",
            "Requirement already satisfied: charset-normalizer<4,>=2 in /usr/local/lib/python3.10/dist-packages (from requests<3,>=2->langchain-community) (3.3.2)\n",
            "Requirement already satisfied: idna<4,>=2.5 in /usr/local/lib/python3.10/dist-packages (from requests<3,>=2->langchain-community) (3.7)\n",
            "Requirement already satisfied: urllib3<3,>=1.21.1 in /usr/local/lib/python3.10/dist-packages (from requests<3,>=2->langchain-community) (2.0.7)\n",
            "Requirement already satisfied: certifi>=2017.4.17 in /usr/local/lib/python3.10/dist-packages (from requests<3,>=2->langchain-community) (2024.2.2)\n",
            "Requirement already satisfied: greenlet!=0.4.17 in /usr/local/lib/python3.10/dist-packages (from SQLAlchemy<3,>=1.4->langchain-community) (3.0.3)\n",
            "Requirement already satisfied: regex>=2022.1.18 in /usr/local/lib/python3.10/dist-packages (from tiktoken<1,>=0.7->langchain-openai) (2023.12.25)\n",
            "Requirement already satisfied: exceptiongroup in /usr/local/lib/python3.10/dist-packages (from anyio<5,>=3.5.0->openai<2.0.0,>=1.24.0->langchain-openai) (1.2.1)\n",
            "Requirement already satisfied: httpcore==1.* in /usr/local/lib/python3.10/dist-packages (from httpx<1,>=0.23.0->openai<2.0.0,>=1.24.0->langchain-openai) (1.0.5)\n",
            "Requirement already satisfied: h11<0.15,>=0.13 in /usr/local/lib/python3.10/dist-packages (from httpcore==1.*->httpx<1,>=0.23.0->openai<2.0.0,>=1.24.0->langchain-openai) (0.14.0)\n",
            "Requirement already satisfied: jsonpointer>=1.9 in /usr/local/lib/python3.10/dist-packages (from jsonpatch<2.0,>=1.33->langchain-core<0.3,>=0.1.46->langchain-openai) (2.4)\n",
            "Requirement already satisfied: annotated-types>=0.4.0 in /usr/local/lib/python3.10/dist-packages (from pydantic<3,>=1->langchain<0.3.0,>=0.2.0->langchain-community) (0.6.0)\n",
            "Requirement already satisfied: pydantic-core==2.18.2 in /usr/local/lib/python3.10/dist-packages (from pydantic<3,>=1->langchain<0.3.0,>=0.2.0->langchain-community) (2.18.2)\n",
            "Requirement already satisfied: mypy-extensions>=0.3.0 in /usr/local/lib/python3.10/dist-packages (from typing-inspect<1,>=0.4.0->dataclasses-json<0.7,>=0.5.7->langchain-community) (1.0.0)\n",
            "Installing collected packages: langchain-community\n",
            "Successfully installed langchain-community-0.2.0\n"
          ]
        }
      ]
    },
    {
      "cell_type": "code",
      "source": [
        "from langchain.prompts.example_selector import (\n",
        "    MaxMarginalRelevanceExampleSelector,\n",
        "    SemanticSimilarityExampleSelector,\n",
        ")\n",
        "\n",
        "from langchain_openai import OpenAIEmbeddings\n",
        "\n",
        "from langchain_community.vectorstores import FAISS\n",
        "\n",
        "from langchain.prompts import FewShotPromptTemplate, PromptTemplate"
      ],
      "metadata": {
        "id": "hXakMuWia1ow"
      },
      "execution_count": 39,
      "outputs": []
    },
    {
      "cell_type": "code",
      "source": [
        "examples"
      ],
      "metadata": {
        "id": "dGhgJGD0aff7",
        "colab": {
          "base_uri": "https://localhost:8080/"
        },
        "outputId": "697df75d-8ac3-4e3a-abbf-88d8d5fd0b67"
      },
      "execution_count": 40,
      "outputs": [
        {
          "output_type": "execute_result",
          "data": {
            "text/plain": [
              "[{'input': 'caffeinated', 'output': 'sleepy'},\n",
              " {'input': 'spooky', 'output': 'cuddly'},\n",
              " {'input': 'crispy', 'output': 'soggy'},\n",
              " {'input': 'galactic', 'output': 'mundane'},\n",
              " {'input': 'funky', 'output': 'plain-jane'},\n",
              " {'input': 'energetic', 'output': 'lethargic'},\n",
              " {'input': 'mysterious', 'output': 'transparent'},\n",
              " {'input': 'delicious', 'output': 'tasteless'},\n",
              " {'input': 'extravagant', 'output': 'simple'},\n",
              " {'input': 'exhilarating', 'output': 'dull'},\n",
              " {'input': 'mesmerizing', 'output': 'uninteresting'},\n",
              " {'input': 'charismatic', 'output': 'ordinary'},\n",
              " {'input': 'eccentric', 'output': 'conventional'},\n",
              " {'input': 'adventurous', 'output': 'cautious'},\n",
              " {'input': 'breathtaking', 'output': 'unremarkable'}]"
            ]
          },
          "metadata": {},
          "execution_count": 40
        }
      ]
    },
    {
      "cell_type": "code",
      "source": [
        "example_prompt"
      ],
      "metadata": {
        "id": "fUoBPBp1aktk",
        "colab": {
          "base_uri": "https://localhost:8080/"
        },
        "outputId": "1009e016-bb87-4e28-f13c-e2da5939cf49"
      },
      "execution_count": 41,
      "outputs": [
        {
          "output_type": "execute_result",
          "data": {
            "text/plain": [
              "PromptTemplate(input_variables=['input', 'output'], template='Input: {input}\\nOutput: {output}')"
            ]
          },
          "metadata": {},
          "execution_count": 41
        }
      ]
    },
    {
      "cell_type": "markdown",
      "source": [
        "## `MaxMarginalRelevanceExampleSelector` Overview\n",
        "\n",
        "Balances relevance & diversity in example selection.\n",
        "\n",
        "🔍 **Key Features:**\n",
        "\n",
        "1. **Semantic Similarity Foundation**:\n",
        "\n",
        "   - Uses semantic similarity for initial example selection.\n",
        "\n",
        "2. **Important Attribute**:\n",
        "\n",
        "   - `fetch_k`: Fetches a set number of examples before MMR reranking.\n",
        "\n",
        "3. **Methods**:\n",
        "   - `select_examples(input_variables)`: Creates query, fetches, and reranks examples using MMR.\n",
        "   \n",
        "   - `from_examples(...)`: Class method to initialize with examples, embeddings, and setup vector store."
      ],
      "metadata": {
        "id": "_bVSaUO-dtzN"
      }
    },
    {
      "cell_type": "code",
      "source": [
        "pip install faiss-gpu"
      ],
      "metadata": {
        "colab": {
          "base_uri": "https://localhost:8080/"
        },
        "id": "MO9oSa9N8ClN",
        "outputId": "556c7a93-eac9-4df9-f16c-1429c8bf1b4d"
      },
      "execution_count": 43,
      "outputs": [
        {
          "output_type": "stream",
          "name": "stdout",
          "text": [
            "Collecting faiss-gpu\n",
            "  Downloading faiss_gpu-1.7.2-cp310-cp310-manylinux_2_17_x86_64.manylinux2014_x86_64.whl (85.5 MB)\n",
            "\u001b[2K     \u001b[90m━━━━━━━━━━━━━━━━━━━━━━━━━━━━━━━━━━━━━━━━\u001b[0m \u001b[32m85.5/85.5 MB\u001b[0m \u001b[31m9.2 MB/s\u001b[0m eta \u001b[36m0:00:00\u001b[0m\n",
            "\u001b[?25hInstalling collected packages: faiss-gpu\n",
            "Successfully installed faiss-gpu-1.7.2\n"
          ]
        }
      ]
    },
    {
      "cell_type": "code",
      "source": [
        "mmr_selector = MaxMarginalRelevanceExampleSelector.from_examples(\n",
        "    examples,\n",
        "    OpenAIEmbeddings(),\n",
        "    FAISS,\n",
        "    k=2,\n",
        "    fetch_k=5,\n",
        ")"
      ],
      "metadata": {
        "id": "0GPIRqvgaoPW"
      },
      "execution_count": 44,
      "outputs": []
    },
    {
      "cell_type": "code",
      "source": [
        "mmr_prompt = FewShotPromptTemplate(\n",
        "    # We provide an ExampleSelector instead of examples.\n",
        "    example_selector=mmr_selector,\n",
        "    example_prompt=example_prompt,\n",
        "    prefix=\"What's the opposite of...\",\n",
        "    suffix=\"Input: {adjective}\\nOutput:\",\n",
        "    input_variables=[\"adjective\"],\n",
        ")"
      ],
      "metadata": {
        "id": "DHJdQxLCejBf"
      },
      "execution_count": 45,
      "outputs": []
    },
    {
      "cell_type": "code",
      "source": [
        "print(mmr_prompt.format(adjective=\"buzzed\"))"
      ],
      "metadata": {
        "id": "vYwzdCSAeCoQ",
        "colab": {
          "base_uri": "https://localhost:8080/"
        },
        "outputId": "0c2d804f-4f90-49c4-f6c0-4256e80f78f6"
      },
      "execution_count": 46,
      "outputs": [
        {
          "output_type": "stream",
          "name": "stdout",
          "text": [
            "What's the opposite of...\n",
            "\n",
            "Input: exhilarating\n",
            "Output: dull\n",
            "\n",
            "Input: caffeinated\n",
            "Output: sleepy\n",
            "\n",
            "Input: buzzed\n",
            "Output:\n"
          ]
        }
      ]
    },
    {
      "cell_type": "markdown",
      "source": [
        "## 🔍 **`NGramOverlapExampleSelector`**\n",
        "\n",
        "Focuses on n-gram overlap for example selection.\n",
        "\n",
        "What is an n-gram?\n",
        "\n",
        "Consider the following sentence: \"Sunsets are always beautiful.\"\n",
        "\n",
        "1️⃣ **Unigram (1-gram)**: Individual words. Example: \"Sunsets,\" \"are,\" \"always,\" \"beautiful\".\n",
        "\n",
        "2️⃣ **Bigram (2-gram)**: Pairs of words. \"Sunsets are,\" \"are always,\" \"always beautiful\".\n",
        "\n",
        "3️⃣ **Trigram (3-gram)**: Trio of words. In this case, \"Sunsets are always\" and \"are always beautiful.\"\n",
        "\n",
        "4️⃣ **Fourgram (4-gram)**: A sequence of four words. With \"Sunsets are always beautiful,\" the fourgram is \"Sunsets are always very.\"\n",
        "\n",
        "This method relies on `sentence_bleu` score for overlap calculation.\n",
        "\n",
        "🧩 **Key Components:**\n",
        "1. **N-gram Overlap Score**:\n",
        "   - Uses `sentence_bleu` for n-gram overlap scoring.\n",
        "   - Score ranges from 0.0 to 1.0.\n",
        "\n",
        "2. **Important Attributes**:\n",
        "   - `examples`: Stores a list of available examples.\n",
        "   - `example_prompt`: Template for formatting examples.\n",
        "   - `threshold`: Cut-off for example selection.\n",
        "\n",
        "3. **Essential Methods**:\n",
        "   - `add_example(example)`: Adds new examples to the list.\n",
        "   - `select_examples(input_variables)`: Sorts and selects examples based on n-gram overlap.\n",
        "\n",
        "🚀 **How It Works**:\n",
        "- Computes n-gram overlap score for each example.\n",
        "- Selects examples in descending score order until hitting the threshold.\n",
        "- Useful for finding examples with common n-grams to the input."
      ],
      "metadata": {
        "id": "SHwoQxHppkQN"
      }
    },
    {
      "cell_type": "code",
      "source": [
        "from langchain.prompts.example_selector.ngram_overlap import NGramOverlapExampleSelector\n",
        "from langchain.prompts import FewShotPromptTemplate, PromptTemplate"
      ],
      "metadata": {
        "id": "SnsccySfg-G5"
      },
      "execution_count": 47,
      "outputs": []
    },
    {
      "cell_type": "code",
      "source": [
        "examples = [\n",
        "    {'input': \"When someone says 'She's thirsty, ain't she?', they're implying she's seeking attention.\",\n",
        "     'output': 'When one remarks, \"She doth crave attention, doth she not?\", they suggest her desire for notice.'},\n",
        "\n",
        "    {'input': \"Saying 'He's flexing those dollar bills.' means he's showing off his wealth.\",\n",
        "     'output': 'To utter, \"He doth flaunt his gold coins, verily.\" is to say he parades his riches.'},\n",
        "\n",
        "    {'input': \"The phrase 'That's some tea.' refers to juicy gossip or interesting news.\",\n",
        "     'output': \"The saying, 'That's a tale most intriguing.' speaks of a story that piques interest.\"},\n",
        "\n",
        "    {'input': \"Exclaiming 'It's lit!' means the situation is exciting or fun.\",\n",
        "     'output': \"Declaring 'It's a merry revel!' signifies a joyous occasion.\"},\n",
        "    {'input': \"When someone uses 'Throwing shade', they're subtly expressing disapproval or contempt.\",\n",
        "     'output': 'When one says \"Casting aspersions\", they art discreetly showing disdain or scorn.'},\n",
        "\n",
        "    {'input': \"The term 'No cap' is used to emphasize that someone is not lying.\",\n",
        "     'output': 'The phrase \"In sooth, no falsehood\" is uttered to stress that one speaks the truth.'},\n",
        "\n",
        "    {'input': \"To 'Slide into the DMs' means to send someone a direct message, usually with romantic intent.\",\n",
        "     'output': 'To \"Venture into private missives\" is to send a personal letter, perchance with courtly designs.'},\n",
        "\n",
        "    {'input': \"If someone has 'Ghosted', they've suddenly cut off all communication without explanation.\",\n",
        "     'output': \"If one hath 'Vanish'd like a spectre', they've abruptly ceased all discourse without reason.\"},\n",
        "\n",
        "    {'input': \"The phrase 'On fleek' means that something is perfect or flawless.\",\n",
        "     'output': \"The saying 'In finest fettle' signifies that something is in impeccable condition.\"}\n",
        "]\n"
      ],
      "metadata": {
        "id": "WU7oZ_J-wOQ6"
      },
      "execution_count": 48,
      "outputs": []
    },
    {
      "cell_type": "code",
      "source": [
        "example_prompt = PromptTemplate(\n",
        "    input_variables=[\"input\", \"output\"],\n",
        "    template=\"Input: {input}\\nOutput: {output}\",\n",
        ")"
      ],
      "metadata": {
        "id": "Mf862IlihAOy"
      },
      "execution_count": 49,
      "outputs": []
    },
    {
      "cell_type": "code",
      "source": [
        "example_prompt"
      ],
      "metadata": {
        "colab": {
          "base_uri": "https://localhost:8080/"
        },
        "id": "jeKU9ub13ZhF",
        "outputId": "f224aa5d-b3c3-49bf-80d8-3f685ebafa8a"
      },
      "execution_count": 50,
      "outputs": [
        {
          "output_type": "execute_result",
          "data": {
            "text/plain": [
              "PromptTemplate(input_variables=['input', 'output'], template='Input: {input}\\nOutput: {output}')"
            ]
          },
          "metadata": {},
          "execution_count": 50
        }
      ]
    },
    {
      "cell_type": "code",
      "source": [
        "example_selector = NGramOverlapExampleSelector(\n",
        "    examples=examples,\n",
        "    example_prompt=example_prompt,\n",
        "    threshold=-1.0\n",
        ")\n",
        "\n",
        "dynamic_prompt = FewShotPromptTemplate(\n",
        "    example_selector=example_selector,\n",
        "    example_prompt=example_prompt,\n",
        "    prefix=\"Translate yon modern utterance into the tongue of the Bard\",\n",
        "    suffix=\"Modern: {sentence}\\nShakespearean:\",\n",
        "    input_variables=[\"sentence\"]\n",
        ")"
      ],
      "metadata": {
        "id": "NsR_SL-OhBAX"
      },
      "execution_count": 51,
      "outputs": []
    },
    {
      "cell_type": "code",
      "source": [
        "dynamic_prompt"
      ],
      "metadata": {
        "colab": {
          "base_uri": "https://localhost:8080/"
        },
        "id": "Toqm4beN1Pod",
        "outputId": "f79e143d-7c78-4439-ff20-9035c9bb74b0"
      },
      "execution_count": 52,
      "outputs": [
        {
          "output_type": "execute_result",
          "data": {
            "text/plain": [
              "FewShotPromptTemplate(input_variables=['sentence'], example_selector=NGramOverlapExampleSelector(examples=[{'input': \"When someone says 'She's thirsty, ain't she?', they're implying she's seeking attention.\", 'output': 'When one remarks, \"She doth crave attention, doth she not?\", they suggest her desire for notice.'}, {'input': \"Saying 'He's flexing those dollar bills.' means he's showing off his wealth.\", 'output': 'To utter, \"He doth flaunt his gold coins, verily.\" is to say he parades his riches.'}, {'input': \"The phrase 'That's some tea.' refers to juicy gossip or interesting news.\", 'output': \"The saying, 'That's a tale most intriguing.' speaks of a story that piques interest.\"}, {'input': \"Exclaiming 'It's lit!' means the situation is exciting or fun.\", 'output': \"Declaring 'It's a merry revel!' signifies a joyous occasion.\"}, {'input': \"When someone uses 'Throwing shade', they're subtly expressing disapproval or contempt.\", 'output': 'When one says \"Casting aspersions\", they art discreetly showing disdain or scorn.'}, {'input': \"The term 'No cap' is used to emphasize that someone is not lying.\", 'output': 'The phrase \"In sooth, no falsehood\" is uttered to stress that one speaks the truth.'}, {'input': \"To 'Slide into the DMs' means to send someone a direct message, usually with romantic intent.\", 'output': 'To \"Venture into private missives\" is to send a personal letter, perchance with courtly designs.'}, {'input': \"If someone has 'Ghosted', they've suddenly cut off all communication without explanation.\", 'output': \"If one hath 'Vanish'd like a spectre', they've abruptly ceased all discourse without reason.\"}, {'input': \"The phrase 'On fleek' means that something is perfect or flawless.\", 'output': \"The saying 'In finest fettle' signifies that something is in impeccable condition.\"}], example_prompt=PromptTemplate(input_variables=['input', 'output'], template='Input: {input}\\nOutput: {output}'), threshold=-1.0), example_prompt=PromptTemplate(input_variables=['input', 'output'], template='Input: {input}\\nOutput: {output}'), suffix='Modern: {sentence}\\nShakespearean:', prefix='Translate yon modern utterance into the tongue of the Bard')"
            ]
          },
          "metadata": {},
          "execution_count": 52
        }
      ]
    },
    {
      "cell_type": "code",
      "source": [
        "print(dynamic_prompt.format(sentence=\"Her comment on social media was clearly throwing shade.\"))"
      ],
      "metadata": {
        "id": "d3OGAMWBqYt5",
        "colab": {
          "base_uri": "https://localhost:8080/"
        },
        "outputId": "3d85a2bb-622d-41f2-8625-d66c02d4dca7"
      },
      "execution_count": 53,
      "outputs": [
        {
          "output_type": "stream",
          "name": "stdout",
          "text": [
            "Translate yon modern utterance into the tongue of the Bard\n",
            "\n",
            "Input: When someone says 'She's thirsty, ain't she?', they're implying she's seeking attention.\n",
            "Output: When one remarks, \"She doth crave attention, doth she not?\", they suggest her desire for notice.\n",
            "\n",
            "Input: Saying 'He's flexing those dollar bills.' means he's showing off his wealth.\n",
            "Output: To utter, \"He doth flaunt his gold coins, verily.\" is to say he parades his riches.\n",
            "\n",
            "Input: The phrase 'That's some tea.' refers to juicy gossip or interesting news.\n",
            "Output: The saying, 'That's a tale most intriguing.' speaks of a story that piques interest.\n",
            "\n",
            "Input: Exclaiming 'It's lit!' means the situation is exciting or fun.\n",
            "Output: Declaring 'It's a merry revel!' signifies a joyous occasion.\n",
            "\n",
            "Input: When someone uses 'Throwing shade', they're subtly expressing disapproval or contempt.\n",
            "Output: When one says \"Casting aspersions\", they art discreetly showing disdain or scorn.\n",
            "\n",
            "Input: The term 'No cap' is used to emphasize that someone is not lying.\n",
            "Output: The phrase \"In sooth, no falsehood\" is uttered to stress that one speaks the truth.\n",
            "\n",
            "Input: To 'Slide into the DMs' means to send someone a direct message, usually with romantic intent.\n",
            "Output: To \"Venture into private missives\" is to send a personal letter, perchance with courtly designs.\n",
            "\n",
            "Input: If someone has 'Ghosted', they've suddenly cut off all communication without explanation.\n",
            "Output: If one hath 'Vanish'd like a spectre', they've abruptly ceased all discourse without reason.\n",
            "\n",
            "Input: The phrase 'On fleek' means that something is perfect or flawless.\n",
            "Output: The saying 'In finest fettle' signifies that something is in impeccable condition.\n",
            "\n",
            "Modern: Her comment on social media was clearly throwing shade.\n",
            "Shakespearean:\n"
          ]
        }
      ]
    },
    {
      "cell_type": "code",
      "source": [
        "print(dynamic_prompt.format(sentence=\"Everyone noticed her craving for attention at the party.\"))"
      ],
      "metadata": {
        "id": "D4CSG0M7sN56",
        "colab": {
          "base_uri": "https://localhost:8080/"
        },
        "outputId": "cd4daf71-39dd-48b8-90dd-c9aece8b887e"
      },
      "execution_count": 54,
      "outputs": [
        {
          "output_type": "stream",
          "name": "stdout",
          "text": [
            "Translate yon modern utterance into the tongue of the Bard\n",
            "\n",
            "Input: Exclaiming 'It's lit!' means the situation is exciting or fun.\n",
            "Output: Declaring 'It's a merry revel!' signifies a joyous occasion.\n",
            "\n",
            "Input: To 'Slide into the DMs' means to send someone a direct message, usually with romantic intent.\n",
            "Output: To \"Venture into private missives\" is to send a personal letter, perchance with courtly designs.\n",
            "\n",
            "Input: When someone says 'She's thirsty, ain't she?', they're implying she's seeking attention.\n",
            "Output: When one remarks, \"She doth crave attention, doth she not?\", they suggest her desire for notice.\n",
            "\n",
            "Input: Saying 'He's flexing those dollar bills.' means he's showing off his wealth.\n",
            "Output: To utter, \"He doth flaunt his gold coins, verily.\" is to say he parades his riches.\n",
            "\n",
            "Input: The phrase 'That's some tea.' refers to juicy gossip or interesting news.\n",
            "Output: The saying, 'That's a tale most intriguing.' speaks of a story that piques interest.\n",
            "\n",
            "Input: When someone uses 'Throwing shade', they're subtly expressing disapproval or contempt.\n",
            "Output: When one says \"Casting aspersions\", they art discreetly showing disdain or scorn.\n",
            "\n",
            "Input: The term 'No cap' is used to emphasize that someone is not lying.\n",
            "Output: The phrase \"In sooth, no falsehood\" is uttered to stress that one speaks the truth.\n",
            "\n",
            "Input: If someone has 'Ghosted', they've suddenly cut off all communication without explanation.\n",
            "Output: If one hath 'Vanish'd like a spectre', they've abruptly ceased all discourse without reason.\n",
            "\n",
            "Input: The phrase 'On fleek' means that something is perfect or flawless.\n",
            "Output: The saying 'In finest fettle' signifies that something is in impeccable condition.\n",
            "\n",
            "Modern: Everyone noticed her craving for attention at the party.\n",
            "Shakespearean:\n"
          ]
        }
      ]
    },
    {
      "cell_type": "code",
      "source": [
        "example_selector.threshold = -0.25\n",
        "print(dynamic_prompt.format(sentence=\"Her comment on social media was clearly throwing shade.\"))"
      ],
      "metadata": {
        "colab": {
          "base_uri": "https://localhost:8080/"
        },
        "id": "qJ67KKNwxyJ_",
        "outputId": "d6715070-fba0-4374-df5a-3617520e0178"
      },
      "execution_count": 55,
      "outputs": [
        {
          "output_type": "stream",
          "name": "stdout",
          "text": [
            "Translate yon modern utterance into the tongue of the Bard\n",
            "\n",
            "Input: When someone says 'She's thirsty, ain't she?', they're implying she's seeking attention.\n",
            "Output: When one remarks, \"She doth crave attention, doth she not?\", they suggest her desire for notice.\n",
            "\n",
            "Input: Saying 'He's flexing those dollar bills.' means he's showing off his wealth.\n",
            "Output: To utter, \"He doth flaunt his gold coins, verily.\" is to say he parades his riches.\n",
            "\n",
            "Input: The phrase 'That's some tea.' refers to juicy gossip or interesting news.\n",
            "Output: The saying, 'That's a tale most intriguing.' speaks of a story that piques interest.\n",
            "\n",
            "Input: Exclaiming 'It's lit!' means the situation is exciting or fun.\n",
            "Output: Declaring 'It's a merry revel!' signifies a joyous occasion.\n",
            "\n",
            "Input: When someone uses 'Throwing shade', they're subtly expressing disapproval or contempt.\n",
            "Output: When one says \"Casting aspersions\", they art discreetly showing disdain or scorn.\n",
            "\n",
            "Input: The term 'No cap' is used to emphasize that someone is not lying.\n",
            "Output: The phrase \"In sooth, no falsehood\" is uttered to stress that one speaks the truth.\n",
            "\n",
            "Input: To 'Slide into the DMs' means to send someone a direct message, usually with romantic intent.\n",
            "Output: To \"Venture into private missives\" is to send a personal letter, perchance with courtly designs.\n",
            "\n",
            "Input: If someone has 'Ghosted', they've suddenly cut off all communication without explanation.\n",
            "Output: If one hath 'Vanish'd like a spectre', they've abruptly ceased all discourse without reason.\n",
            "\n",
            "Input: The phrase 'On fleek' means that something is perfect or flawless.\n",
            "Output: The saying 'In finest fettle' signifies that something is in impeccable condition.\n",
            "\n",
            "Modern: Her comment on social media was clearly throwing shade.\n",
            "Shakespearean:\n"
          ]
        }
      ]
    },
    {
      "cell_type": "code",
      "source": [
        "example_selector.threshold = -1\n",
        "print(dynamic_prompt.format(sentence=\"The maiden ghosted me post our rendezvous.\"))"
      ],
      "metadata": {
        "colab": {
          "base_uri": "https://localhost:8080/"
        },
        "id": "SMWiSoc-ycKl",
        "outputId": "44d95718-c091-4a22-98fd-e78de9d680ec"
      },
      "execution_count": 56,
      "outputs": [
        {
          "output_type": "stream",
          "name": "stdout",
          "text": [
            "Translate yon modern utterance into the tongue of the Bard\n",
            "\n",
            "Input: The phrase 'On fleek' means that something is perfect or flawless.\n",
            "Output: The saying 'In finest fettle' signifies that something is in impeccable condition.\n",
            "\n",
            "Input: The phrase 'That's some tea.' refers to juicy gossip or interesting news.\n",
            "Output: The saying, 'That's a tale most intriguing.' speaks of a story that piques interest.\n",
            "\n",
            "Input: The term 'No cap' is used to emphasize that someone is not lying.\n",
            "Output: The phrase \"In sooth, no falsehood\" is uttered to stress that one speaks the truth.\n",
            "\n",
            "Input: When someone says 'She's thirsty, ain't she?', they're implying she's seeking attention.\n",
            "Output: When one remarks, \"She doth crave attention, doth she not?\", they suggest her desire for notice.\n",
            "\n",
            "Input: Saying 'He's flexing those dollar bills.' means he's showing off his wealth.\n",
            "Output: To utter, \"He doth flaunt his gold coins, verily.\" is to say he parades his riches.\n",
            "\n",
            "Input: Exclaiming 'It's lit!' means the situation is exciting or fun.\n",
            "Output: Declaring 'It's a merry revel!' signifies a joyous occasion.\n",
            "\n",
            "Input: When someone uses 'Throwing shade', they're subtly expressing disapproval or contempt.\n",
            "Output: When one says \"Casting aspersions\", they art discreetly showing disdain or scorn.\n",
            "\n",
            "Input: To 'Slide into the DMs' means to send someone a direct message, usually with romantic intent.\n",
            "Output: To \"Venture into private missives\" is to send a personal letter, perchance with courtly designs.\n",
            "\n",
            "Input: If someone has 'Ghosted', they've suddenly cut off all communication without explanation.\n",
            "Output: If one hath 'Vanish'd like a spectre', they've abruptly ceased all discourse without reason.\n",
            "\n",
            "Modern: The maiden ghosted me post our rendezvous.\n",
            "Shakespearean:\n"
          ]
        }
      ]
    },
    {
      "cell_type": "markdown",
      "source": [
        "## `SemanticSimilarityExampleSelector` Overview\n",
        "\n",
        "- Specializes in finding examples that match input semantics.\n",
        "\n",
        "- Utilizes embeddings & vector store for semantic matching.\n",
        "\n",
        "🔑 **Key Attributes:**\n",
        "\n",
        "1. **vectorstore**: Stores embeddings of examples.\n",
        "2. **k**: Number of examples to select (default is 4).\n",
        "\n",
        "3. **example_keys**: Filters for specific example elements.\n",
        "\n",
        "4. **input_keys**: Filters for specific input variables.\n",
        "\n",
        "🔧 **Main Methods:**\n",
        "\n",
        "1. **`add_example(example)`**:\n",
        "   - Inserts a new example into `vectorstore`.\n",
        "\n",
        "   - Constructs a query string based on `input_keys`.\n",
        "\n",
        "2. **`select_examples(input_variables)`**:\n",
        "\n",
        "   - Finds examples matching input semantics.\n",
        "\n",
        "   - Constructs query from input, searches in `vectorstore`.\n",
        "\n",
        "   - Filters results with `example_keys` if given.\n",
        "\n",
        "3. **`from_examples(...)`**:\n",
        "\n",
        "   - Class method to initialize an instance.\n",
        "\n",
        "   - Sets up `vectorstore` with examples and embeddings.\n",
        "\n",
        "💡 **How It Works**:\n",
        "\n",
        "- Employs embeddings for semantic understanding.\n",
        "\n",
        "- Queries `vectorstore` for semantically close examples.\n",
        "\n",
        "- Can tailor results based on `example_keys`."
      ],
      "metadata": {
        "id": "EcgnA9knw8fh"
      }
    },
    {
      "cell_type": "markdown",
      "source": [
        "# Initializing the Semantic Similarity Example Selector\n",
        "\n",
        "To select examples based on their semantic similarity, we use the `SemanticSimilarityExampleSelector`. Here's how it's set up:\n",
        "\n",
        "- **Examples**: A list of available examples for selection.\n",
        "\n",
        "- **Embedding Class**: Utilizes `OpenAIEmbeddings()` to generate embeddings, which help measure the semantic similarity between examples.\n",
        "\n",
        "- **Vector Store**: Employs the `FAISS` class to store these embeddings and perform similarity searches.\n",
        "\n",
        "- **Number of Examples**: Determines how many examples to produce, set here as `k=4`.\n",
        "\n",
        "\n",
        "\n",
        "\n"
      ],
      "metadata": {
        "id": "ZV4zAldYtc0v"
      }
    },
    {
      "cell_type": "code",
      "source": [
        "examples"
      ],
      "metadata": {
        "id": "EzVMuncBvsEu",
        "colab": {
          "base_uri": "https://localhost:8080/"
        },
        "outputId": "9ee11de9-2ae4-4b4e-ead8-3967e3141774"
      },
      "execution_count": 57,
      "outputs": [
        {
          "output_type": "execute_result",
          "data": {
            "text/plain": [
              "[{'input': \"When someone says 'She's thirsty, ain't she?', they're implying she's seeking attention.\",\n",
              "  'output': 'When one remarks, \"She doth crave attention, doth she not?\", they suggest her desire for notice.'},\n",
              " {'input': \"Saying 'He's flexing those dollar bills.' means he's showing off his wealth.\",\n",
              "  'output': 'To utter, \"He doth flaunt his gold coins, verily.\" is to say he parades his riches.'},\n",
              " {'input': \"The phrase 'That's some tea.' refers to juicy gossip or interesting news.\",\n",
              "  'output': \"The saying, 'That's a tale most intriguing.' speaks of a story that piques interest.\"},\n",
              " {'input': \"Exclaiming 'It's lit!' means the situation is exciting or fun.\",\n",
              "  'output': \"Declaring 'It's a merry revel!' signifies a joyous occasion.\"},\n",
              " {'input': \"When someone uses 'Throwing shade', they're subtly expressing disapproval or contempt.\",\n",
              "  'output': 'When one says \"Casting aspersions\", they art discreetly showing disdain or scorn.'},\n",
              " {'input': \"The term 'No cap' is used to emphasize that someone is not lying.\",\n",
              "  'output': 'The phrase \"In sooth, no falsehood\" is uttered to stress that one speaks the truth.'},\n",
              " {'input': \"To 'Slide into the DMs' means to send someone a direct message, usually with romantic intent.\",\n",
              "  'output': 'To \"Venture into private missives\" is to send a personal letter, perchance with courtly designs.'},\n",
              " {'input': \"If someone has 'Ghosted', they've suddenly cut off all communication without explanation.\",\n",
              "  'output': \"If one hath 'Vanish'd like a spectre', they've abruptly ceased all discourse without reason.\"},\n",
              " {'input': \"The phrase 'On fleek' means that something is perfect or flawless.\",\n",
              "  'output': \"The saying 'In finest fettle' signifies that something is in impeccable condition.\"}]"
            ]
          },
          "metadata": {},
          "execution_count": 57
        }
      ]
    },
    {
      "cell_type": "code",
      "source": [
        "example_prompt"
      ],
      "metadata": {
        "id": "WrVh7XVHt0Sh",
        "colab": {
          "base_uri": "https://localhost:8080/"
        },
        "outputId": "7d8d85e3-4c0e-4aa7-c1c5-e3a0c8349b09"
      },
      "execution_count": 58,
      "outputs": [
        {
          "output_type": "execute_result",
          "data": {
            "text/plain": [
              "PromptTemplate(input_variables=['input', 'output'], template='Input: {input}\\nOutput: {output}')"
            ]
          },
          "metadata": {},
          "execution_count": 58
        }
      ]
    },
    {
      "cell_type": "code",
      "source": [
        "example_selector = SemanticSimilarityExampleSelector.from_examples(\n",
        "    examples,\n",
        "    OpenAIEmbeddings(),\n",
        "    FAISS,\n",
        "    k=4,\n",
        ")\n",
        "\n",
        "similar_prompt = FewShotPromptTemplate(\n",
        "    example_selector=example_selector,\n",
        "    example_prompt=example_prompt,\n",
        "    prefix=\"Translate yon modern utterance into the tongue of the Bard\",\n",
        "    suffix=\"Modern: {sentence}\\nShakespearean:\",\n",
        "    input_variables=[\"sentence\"]\n",
        ")"
      ],
      "metadata": {
        "id": "VnKZHOjKt4Bu"
      },
      "execution_count": 59,
      "outputs": []
    },
    {
      "cell_type": "code",
      "source": [
        "print(similar_prompt.format(sentence=\"What does it mean when someone says they're 'Throwing shade' at another?\"))"
      ],
      "metadata": {
        "id": "rhPHqoiwt6m4",
        "colab": {
          "base_uri": "https://localhost:8080/"
        },
        "outputId": "6f0408fb-7a8f-4e4e-bc01-424797122822"
      },
      "execution_count": 60,
      "outputs": [
        {
          "output_type": "stream",
          "name": "stdout",
          "text": [
            "Translate yon modern utterance into the tongue of the Bard\n",
            "\n",
            "Input: When someone uses 'Throwing shade', they're subtly expressing disapproval or contempt.\n",
            "Output: When one says \"Casting aspersions\", they art discreetly showing disdain or scorn.\n",
            "\n",
            "Input: When someone says 'She's thirsty, ain't she?', they're implying she's seeking attention.\n",
            "Output: When one remarks, \"She doth crave attention, doth she not?\", they suggest her desire for notice.\n",
            "\n",
            "Input: If someone has 'Ghosted', they've suddenly cut off all communication without explanation.\n",
            "Output: If one hath 'Vanish'd like a spectre', they've abruptly ceased all discourse without reason.\n",
            "\n",
            "Input: The phrase 'That's some tea.' refers to juicy gossip or interesting news.\n",
            "Output: The saying, 'That's a tale most intriguing.' speaks of a story that piques interest.\n",
            "\n",
            "Modern: What does it mean when someone says they're 'Throwing shade' at another?\n",
            "Shakespearean:\n"
          ]
        }
      ]
    },
    {
      "cell_type": "code",
      "source": [
        "print(similar_prompt.format(sentence=\"Someone told me my style was reminiscent of a 'snack'. What could they be hinting at?\"))\n"
      ],
      "metadata": {
        "id": "HL3pPfNVuYpi",
        "colab": {
          "base_uri": "https://localhost:8080/"
        },
        "outputId": "ec9bb3ab-183f-4db7-96f0-23a456d8e91f"
      },
      "execution_count": 61,
      "outputs": [
        {
          "output_type": "stream",
          "name": "stdout",
          "text": [
            "Translate yon modern utterance into the tongue of the Bard\n",
            "\n",
            "Input: When someone says 'She's thirsty, ain't she?', they're implying she's seeking attention.\n",
            "Output: When one remarks, \"She doth crave attention, doth she not?\", they suggest her desire for notice.\n",
            "\n",
            "Input: The phrase 'That's some tea.' refers to juicy gossip or interesting news.\n",
            "Output: The saying, 'That's a tale most intriguing.' speaks of a story that piques interest.\n",
            "\n",
            "Input: When someone uses 'Throwing shade', they're subtly expressing disapproval or contempt.\n",
            "Output: When one says \"Casting aspersions\", they art discreetly showing disdain or scorn.\n",
            "\n",
            "Input: If someone has 'Ghosted', they've suddenly cut off all communication without explanation.\n",
            "Output: If one hath 'Vanish'd like a spectre', they've abruptly ceased all discourse without reason.\n",
            "\n",
            "Modern: Someone told me my style was reminiscent of a 'snack'. What could they be hinting at?\n",
            "Shakespearean:\n"
          ]
        }
      ]
    },
    {
      "cell_type": "code",
      "source": [
        "print(similar_prompt.format(sentence=\"I overheard someone mention they felt 'shook' after watching a movie. What emotion were they expressing?\"))\n"
      ],
      "metadata": {
        "id": "2BQ5wWvNufY1",
        "colab": {
          "base_uri": "https://localhost:8080/"
        },
        "outputId": "e8260267-77cb-4299-d9af-6d064fce7f4c"
      },
      "execution_count": 62,
      "outputs": [
        {
          "output_type": "stream",
          "name": "stdout",
          "text": [
            "Translate yon modern utterance into the tongue of the Bard\n",
            "\n",
            "Input: If someone has 'Ghosted', they've suddenly cut off all communication without explanation.\n",
            "Output: If one hath 'Vanish'd like a spectre', they've abruptly ceased all discourse without reason.\n",
            "\n",
            "Input: Exclaiming 'It's lit!' means the situation is exciting or fun.\n",
            "Output: Declaring 'It's a merry revel!' signifies a joyous occasion.\n",
            "\n",
            "Input: When someone says 'She's thirsty, ain't she?', they're implying she's seeking attention.\n",
            "Output: When one remarks, \"She doth crave attention, doth she not?\", they suggest her desire for notice.\n",
            "\n",
            "Input: When someone uses 'Throwing shade', they're subtly expressing disapproval or contempt.\n",
            "Output: When one says \"Casting aspersions\", they art discreetly showing disdain or scorn.\n",
            "\n",
            "Modern: I overheard someone mention they felt 'shook' after watching a movie. What emotion were they expressing?\n",
            "Shakespearean:\n"
          ]
        }
      ]
    }
  ]
}