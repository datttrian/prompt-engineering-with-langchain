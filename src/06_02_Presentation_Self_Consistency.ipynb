{
  "cells": [
    {
      "cell_type": "code",
      "execution_count": 1,
      "metadata": {
        "colab": {
          "base_uri": "https://localhost:8080/"
        },
        "id": "lYso775DvQdr",
        "outputId": "ed9058d4-4e98-4388-f3b6-8235d5109e50"
      },
      "outputs": [
        {
          "name": "stdout",
          "output_type": "stream",
          "text": [
            "Enter Your OpenAI API Key:··········\n"
          ]
        }
      ],
      "source": [
        "import os\n",
        "import getpass\n",
        "\n",
        "os.environ[\"OPENAI_API_KEY\"] = getpass.getpass(\"Enter Your OpenAI API Key:\")"
      ]
    },
    {
      "cell_type": "markdown",
      "metadata": {
        "id": "M-za_e1Ovs8O"
      },
      "source": [
        "## Self-Consistency Prompting in Language Models\n",
        "\n",
        "Self-consistency prompting was introduced in the March 2022 paper [\"Self-Consistency Improves Chain of Thought Reasoning in Language Models\"](https://arxiv.org/pdf/2203.11171.pdf) by Xuezhi Wang, et. al.\n",
        "\n",
        "# 🤔 **What is Self-Consistency Prompting?**\n",
        "\n",
        "- Focuses on exploring different reasoning paths for complex problems.\n",
        "\n",
        "- Aims for reliable answers by checking consistency across various thought processes.\n",
        "\n",
        "### 🌟 **Differences from Other Prompting Techniques**\n",
        "\n",
        "- Traditional CoT: Generates short sentences mimicking human reasoning for solving tasks.\n",
        "\n",
        "- Self-Consistency: Samples multiple reasoning paths and finds the most consistent answer.\n",
        "\n",
        "- It's unsupervised and works with pre-trained models, unlike methods needing extra training or human annotations.\n",
        "\n",
        "### **🛠️ Constructing a Self-Consistency Prompt**\n",
        "\n",
        "\n",
        "<figure>\n",
        "  <img src=\"https://pbs.twimg.com/media/Ff73Y-RaEAANaqT.jpg\" alt=\"Image Description\" style=\"width:100%\">\n",
        "  <figcaption>The self-consistency method contains three steps: (1) prompt a language model using chain-of-thought (CoT) prompting; (2) replace the “greedy decode” in CoT prompting by sampling from the language model’s decoder to generate a diverse set of reasoning paths; and (3) marginalize out the reasoning paths and aggregate by choosing the most consistent answer in the final answer set.</figcaption>\n",
        "  <a href=\"https://twitter.com/denny_zhou/status/1584978661668966401\">Image Source</a>\n",
        "</figure>\n",
        "\n",
        "\n",
        "1. **Start with CoT**: Use chain-of-thought prompting as the base.\n",
        "\n",
        "2. **Sample Diverse Paths**: Use \"sample-and-marginalize\" decoding to get various reasoning paths.\n",
        "\n",
        "3. **Marginalize for Consistency**: Find the most consistent answer from these different paths.\n",
        "\n",
        "### 🔍 **Examples in Action**\n",
        "\n",
        "- **Chain-of-Thought**: For the question \"If there are 3 cars in the parking lot and 2 more cars arrive, how many cars are in the parking lot?\", instead of directly answering \"5\", the model might respond with the reasoning: \"There are 3 cars in the parking lot already. 2 more arrive. Now there are 3 + 2 = 5 cars. The answer is 5.\"\n",
        "\n",
        "- **Self-Consistency**: For a question about how much Janet makes from selling eggs, the model might generate multiple reasoning paths like:\n",
        "  1. \"She has 16 - 3 - 4 = 9 eggs left. So she makes $2 * 9 = $18 per day.\"\n",
        "\n",
        "  2. \"This means she sells the remainder for $2 * (16 - 4 - 3) = $26 per day.\"\n",
        "  \n",
        "  3. \"She eats 3 for breakfast, so she has 16 - 3 = 13 left. Then she bakes muffins, so she has 13 - 4 = 9 eggs left. So she has 9 eggs * $2 = $18.\"\n",
        "\n",
        "  The model then aggregates these paths to determine the most consistent answer, which in this case is \"$18 per day.\"\n",
        "\n",
        "\n",
        "🚀 **Impact of Self-Consistency Prompting**\n",
        "- Enhances model reasoning by considering multiple paths.\n",
        "- Shown to boost performance in arithmetic and commonsense reasoning tasks.\n",
        "\n",
        "# Begin by setting up CoT prompts\n",
        "\n",
        "We're following the same pattern from the Chain of Thought lesson.\n",
        "\n",
        "1. Downloading CoT prompt datasets from HuggingFace\n",
        "\n",
        "2. Downloading embeddings model from HuggingFace\n",
        "\n",
        "3. Creating prompt template for CoT\n",
        "\n",
        "4. Creating an example selector\n",
        "\n",
        "5. Construct the prompt"
      ]
    },
    {
      "cell_type": "code",
      "execution_count": null,
      "metadata": {
        "colab": {
          "base_uri": "https://localhost:8080/"
        },
        "id": "7yoUCUmEY1YI",
        "outputId": "586fad5f-a2b7-4fb3-f777-daf71c869d24"
      },
      "outputs": [],
      "source": [
        "pip install datasets"
      ]
    },
    {
      "cell_type": "code",
      "execution_count": 4,
      "metadata": {
        "id": "hQTIOjPeVTCB"
      },
      "outputs": [],
      "source": [
        "%%capture\n",
        "from datasets import load_dataset\n",
        "\n",
        "dataset = load_dataset(\"kaist-ai/CoT-Collection\", split=\"train\", trust_remote_code=True)\n",
        "\n",
        "dataset = dataset.remove_columns(['task', 'type'])\n",
        "\n",
        "dataset = dataset.shuffle(seed=42)\n",
        "\n",
        "dataset = dataset.select(range(10_000))\n",
        "\n",
        "dataset = dataset.to_pandas()\n",
        "\n",
        "selected_examples = dataset.to_dict(orient='records')"
      ]
    },
    {
      "cell_type": "code",
      "execution_count": null,
      "metadata": {
        "colab": {
          "base_uri": "https://localhost:8080/"
        },
        "id": "JQaqC2OvZciR",
        "outputId": "8b97a525-6426-404b-8ec7-b0f219c57372"
      },
      "outputs": [],
      "source": [
        "pip install langchain-community sentence-transformers"
      ]
    },
    {
      "cell_type": "code",
      "execution_count": 9,
      "metadata": {
        "id": "fZW_bkcHWsIj"
      },
      "outputs": [],
      "source": [
        "%%capture\n",
        "from langchain_community.embeddings import HuggingFaceBgeEmbeddings\n",
        "\n",
        "model_name = \"BAAI/bge-base-en-v1.5\"\n",
        "\n",
        "encode_kwargs = {'normalize_embeddings': True} # set True to compute cosine similarity\n",
        "\n",
        "embeddings = HuggingFaceBgeEmbeddings(\n",
        "    model_name=model_name,\n",
        "    model_kwargs={'device': 'cuda'},\n",
        "    encode_kwargs=encode_kwargs\n",
        ")"
      ]
    },
    {
      "cell_type": "code",
      "execution_count": 10,
      "metadata": {
        "id": "OU_F3tjCWtrd"
      },
      "outputs": [],
      "source": [
        "from langchain.prompts.example_selector import MaxMarginalRelevanceExampleSelector\n",
        "from langchain_community.vectorstores import FAISS\n",
        "from langchain.prompts import FewShotPromptTemplate, PromptTemplate\n",
        "\n",
        "prefix = \"Consider the following as examples of how to reason:\"\n",
        "\n",
        "examples_template = \"\"\"Query: {source}\n",
        "\n",
        "Rationale: {rationale}\n",
        "\n",
        "Response: {target}\n",
        "\"\"\"\n",
        "\n",
        "suffix = \"\"\"Using a similar reasoning approach, answer the users question which is delimited by triple backticks.\n",
        "\n",
        "User question: ```{input}```\n",
        "\n",
        "Take a deep breath, break down the user's query step-by-step, and provide a clear chain of thought in your response.\"\n",
        "\"\"\"\n",
        "\n",
        "examples_prompt = PromptTemplate(\n",
        "    input_variables=[\"source\", \"rationale\", \"target\"],\n",
        "    template=examples_template\n",
        ")"
      ]
    },
    {
      "cell_type": "code",
      "execution_count": null,
      "metadata": {
        "colab": {
          "base_uri": "https://localhost:8080/"
        },
        "id": "Ro42V2MSa8d6",
        "outputId": "afc5a027-3684-4b9a-9cf1-e70c37f35904"
      },
      "outputs": [],
      "source": [
        "pip install faiss-gpu"
      ]
    },
    {
      "cell_type": "code",
      "execution_count": 13,
      "metadata": {
        "id": "OrBTG72YXnF5"
      },
      "outputs": [],
      "source": [
        "example_selector = MaxMarginalRelevanceExampleSelector.from_examples(\n",
        "    selected_examples,\n",
        "    embeddings,\n",
        "    FAISS,\n",
        "    k=5,\n",
        ")\n",
        "\n",
        "mmr_prompt = FewShotPromptTemplate(\n",
        "    example_selector=example_selector,\n",
        "    example_prompt=examples_prompt,\n",
        "    prefix=prefix,\n",
        "    suffix=suffix,\n",
        "    input_variables=[\"input\"]\n",
        ")"
      ]
    },
    {
      "cell_type": "code",
      "execution_count": 14,
      "metadata": {
        "id": "Uk_MsWVrYyAn"
      },
      "outputs": [],
      "source": [
        "query = \"\"\"There were nine computers in the server room. Five more computers were installed each day, from\n",
        "monday to thursday. How many computers are now in the server room?\n",
        "\"\"\"\n",
        "prompt = mmr_prompt.format(input=query)"
      ]
    },
    {
      "cell_type": "code",
      "execution_count": 15,
      "metadata": {
        "colab": {
          "base_uri": "https://localhost:8080/"
        },
        "id": "Tfa1Joqbi0ig",
        "outputId": "41300b28-9942-4d78-e9c3-e6c4fdfb32a2"
      },
      "outputs": [
        {
          "name": "stdout",
          "output_type": "stream",
          "text": [
            "Consider the following as examples of how to reason:\n",
            "\n",
            "Query: Extract the answer to the question from the following context.\n",
            "Question: What was once only found in large computers?\n",
            "Context: Some computers are designed to distribute their work across several CPUs in a multiprocessing configuration, a technique once employed only in large and powerful machines such as supercomputers, mainframe computers and servers. Multiprocessor and multi-core (multiple CPUs on a single integrated circuit) personal and laptop computers are now widely available, and are being increasingly used in lower-end markets as a result.\n",
            "\n",
            "Rationale: The context mentions that multiprocessing configurations were once only found in large computers. Therefore, the answer is \"several CPUs in a multiprocessing configuration.\"\n",
            "\n",
            "Response: several CPUs in a multiprocessing configuration\n",
            "\n",
            "\n",
            "Query: Given a math word problem, answer the following question. You might need to apply addition or subtraction mathematical operators on the numbers embedded in the text to answer the question and then only report the final numerical answer.\n",
            "\n",
            "on the last day of school only 16 students showed up . if 7 of them were checked out early how many students were left ?\n",
            "\n",
            "Rationale: The number of students that showed up on the last day is 16 and 7 of them were checked out early. Therefore, a total of 9 students remained in school until the end.\n",
            "\n",
            "Response: 9\n",
            "\n",
            "\n",
            "Query: In this task, you need to answer the given multiple-choice question on the physics. Classify your answers into 'a', 'b', 'c', 'd', and 'e'.\n",
            "\n",
            "Problem: one computer can upload 100 megabytes worth of data in 2 seconds . two computers , including this one , working together , can upload 1300 megabytes worth of data in 10 seconds . how long would it take for the second computer , working on its own , to upload 100 megabytes of data ? \n",
            "Options: a ) 6.6 , b ) 7 , c ) 9 , d ) 11 , e ) 13\n",
            "\n",
            "Rationale: The two computers together can upload 1300 megabytes in 10 seconds, so each computer can upload 650 megabytes in 10 seconds. That's 65 megabytes per second. If a computer is uploading at 65 MB per second, then it will take 100/65 = 1.5 seconds to upload 100 megabytes.\n",
            "\n",
            "Response: a\n",
            "\n",
            "\n",
            "Query: In this task, you need to remove all words of a given length in the sentence. The number of letters in a word determine its length, for example, the length of the word \"apple\" is 5.\n",
            "\n",
            "Sentence: 'a computer work room with a number of computer devices'. Remove all words of length '8' in the given sentence.\n",
            "\n",
            "Rationale: The sentence 'a computer work room with a number of computer devices' contains 2 words whose length is 8.\n",
            "1. \"computer\"\n",
            "2. \"computer\"\\n\\nRemoving all the words of length 8, we get the sentence 'a work room with a number of devices'.\n",
            "\n",
            "Response: a work room with a number of devices\n",
            "\n",
            "\n",
            "Query: What was the response? I want to go to catfish hut tonight, book me table\n",
            "how many guests are there\n",
            "three, including myself\n",
            "what time? \n",
            "10 p.m., and we want to sit in a big booth, too\n",
            "\n",
            "Rationale: The question is asking what the response to the last utterance was. The response was \"the resteraunt closes at 9:45\", so that would be the correct answer.\n",
            "\n",
            "Response: the resteraunt closes at 9:45\n",
            "\n",
            "\n",
            "Using a similar reasoning approach, answer the users question which is delimited by triple backticks.\n",
            "\n",
            "User question: ```There were nine computers in the server room. Five more computers were installed each day, from\n",
            "monday to thursday. How many computers are now in the server room?\n",
            "```\n",
            "\n",
            "Take a deep breath, break down the user's query step-by-step, and provide a clear chain of thought in your response.\"\n",
            "\n"
          ]
        }
      ],
      "source": [
        "print(prompt)"
      ]
    },
    {
      "cell_type": "markdown",
      "metadata": {
        "id": "Gpf4qBTGayyu"
      },
      "source": [
        "# Self-Consistency Prompt"
      ]
    },
    {
      "cell_type": "code",
      "execution_count": 16,
      "metadata": {
        "id": "AYl6DmB2ay3w"
      },
      "outputs": [],
      "source": [
        "sc_template = \"\"\"Based on the responses (delimited by < >) to the following query, \\\n",
        "(delimited by triple backticks) return the response that occurs most frequently.\n",
        "\n",
        "Query: ```{query}```\n",
        "\n",
        "Responses: <{responses}>\n",
        "\"\"\"\n",
        "\n",
        "sc_prompt = PromptTemplate.from_template(sc_template)"
      ]
    },
    {
      "cell_type": "markdown",
      "metadata": {
        "id": "0HiZ4ruMXtVx"
      },
      "source": [
        "### Generating multiple responses\n",
        "\n",
        "\n",
        "Use the `n` parameter to generate alternative responses. Increase `n` to explore different variations.\n",
        "\n"
      ]
    },
    {
      "cell_type": "code",
      "execution_count": null,
      "metadata": {
        "colab": {
          "base_uri": "https://localhost:8080/"
        },
        "id": "quJ10KD3br8T",
        "outputId": "20065cc9-6852-4711-ae21-227db9a41757"
      },
      "outputs": [],
      "source": [
        "pip install langchain-openai"
      ]
    },
    {
      "cell_type": "code",
      "execution_count": 19,
      "metadata": {
        "id": "VE0qVJOKaXhE"
      },
      "outputs": [],
      "source": [
        "from langchain_openai import OpenAI\n",
        "\n",
        "# we'll use the default model here, gpt-3.5-turbo-instruct\n",
        "llm = OpenAI(n=5)\n",
        "\n",
        "generations = llm.generate([prompt])"
      ]
    },
    {
      "cell_type": "code",
      "execution_count": 20,
      "metadata": {
        "colab": {
          "base_uri": "https://localhost:8080/"
        },
        "id": "etiUjc8GfA8j",
        "outputId": "7c036b55-ebb6-4d7d-f1c7-3be2b8060bf4"
      },
      "outputs": [
        {
          "data": {
            "text/plain": [
              "[[Generation(text=\"\\nRationale: The user's query is asking about the current number of computers in the server room after a certain number of installations. First, we know that there were initially 9 computers in the server room. Then, 5 more computers were installed each day from Monday to Thursday. This means that 5 computers were installed on each of those 4 days, resulting in a total of 20 additional installations (5 x 4 = 20). Therefore, the current number of computers in the server room is 9 + 20 = 29.\\n\\nResponse: 29 computers are now in the server room.\", generation_info={'finish_reason': 'stop', 'logprobs': None}),\n",
              "  Generation(text='\\nRationale: The user is asking for the total number of computers in the server room after five more were installed each day from Monday to Thursday. This can be solved by first finding how many computers were installed in total from Monday to Thursday, then adding that to the initial nine computers in the room.\\n\\nStep 1: Find the number of computers installed from Monday to Thursday:\\nSince five more computers were installed each day, we can add five to the total number of computers each day. Therefore, the number of computers installed each day is 5, 10, 15, and 20 for Monday, Tuesday, Wednesday, and Thursday respectively. Adding these numbers together, we get a total of 50 computers installed from Monday to Thursday.\\n\\nStep 2: Add the initial nine computers to the total number installed:\\nWe know that there were initially nine computers in the server room, so we add that to the 50 computers installed from Monday to Thursday. This gives us a total of 59 computers in the server room now.\\n\\nResponse: 59 computers', generation_info={'finish_reason': 'stop', 'logprobs': None}),\n",
              "  Generation(text=\"\\nRationale: The user's query is asking for the total number of computers in the server room after five more computers were installed each day from Monday to Thursday. To find the answer, we need to add the initial nine computers to the number of computers installed each day for four days (Monday to Thursday). This can be represented as: 9 + 5 + 5 + 5 + 5 = 29. Therefore, there are now 29 computers in the server room.\\n\\nResponse: 29\", generation_info={'finish_reason': 'stop', 'logprobs': None}),\n",
              "  Generation(text=\"\\nRationale: The user's query is asking for the total number of computers that are now in the server room after five more were installed each day from Monday to Thursday. To find this answer, we need to add the initial nine computers to the five that were installed each day for a total of 16 computers after the first day. Then, on the second day, we add another five to the total, giving us 21 computers. On the third day, we add five more, bringing the total to 26 computers. Finally, on the fourth day, we add the last five computers, giving us a final total of 31 computers in the server room.\\n\\nResponse: 31 computers are now in the server room.\", generation_info={'finish_reason': 'stop', 'logprobs': None}),\n",
              "  Generation(text=\"\\nRationale: The user's question is asking for the total number of computers in the server room, given that there were initially nine computers and five more were installed each day from Monday to Thursday. We can break down this problem into smaller steps to solve it.\\n\\nStep 1: On Monday, five more computers were installed, so the total number of computers would be 9 + 5 = 14\\n\\nStep 2: On Tuesday, five more computers were installed, so the total number would be 14 + 5 = 19\\n\\nStep 3: On Wednesday, five more computers were installed, so the total number would be 19 + 5 = 24\\n\\nStep 4: On Thursday, five more computers were installed, so the total number would be 24 + 5 = 29\\n\\nTherefore, the final answer is 29 computers in the server room.\\n\\nResponse: 29\", generation_info={'finish_reason': 'stop', 'logprobs': None})]]"
            ]
          },
          "execution_count": 20,
          "metadata": {},
          "output_type": "execute_result"
        }
      ],
      "source": [
        "generations.generations"
      ]
    },
    {
      "cell_type": "code",
      "execution_count": 21,
      "metadata": {
        "id": "pSww4BDffMLe"
      },
      "outputs": [],
      "source": [
        "responses = []\n",
        "for item in generations.generations[0]:\n",
        "    response_index = item.text.find(\"Response: \")\n",
        "    if response_index != -1:\n",
        "        response = item.text[response_index + len(\"Response: \"):].strip()\n",
        "        responses.append(response)"
      ]
    },
    {
      "cell_type": "code",
      "execution_count": 22,
      "metadata": {
        "colab": {
          "base_uri": "https://localhost:8080/"
        },
        "id": "DhXPkzdggX0P",
        "outputId": "b7dfe3fc-5981-44af-ca51-d380b5a41af5"
      },
      "outputs": [
        {
          "data": {
            "text/plain": [
              "['29 computers are now in the server room.',\n",
              " '59 computers',\n",
              " '29',\n",
              " '31 computers are now in the server room.',\n",
              " '29']"
            ]
          },
          "execution_count": 22,
          "metadata": {},
          "output_type": "execute_result"
        }
      ],
      "source": [
        "responses"
      ]
    },
    {
      "cell_type": "code",
      "execution_count": 23,
      "metadata": {
        "colab": {
          "base_uri": "https://localhost:8080/"
        },
        "id": "6mNnbPddhGK6",
        "outputId": "9985a13f-4049-47c5-8fd1-fc27b107b8f1"
      },
      "outputs": [
        {
          "name": "stdout",
          "output_type": "stream",
          "text": [
            "Based on the responses (delimited by < >) to the following query, (delimited by triple backticks) return the response that occurs most frequently.\n",
            "\n",
            "Query: ```There were nine computers in the server room. Five more computers were installed each day, from\n",
            "monday to thursday. How many computers are now in the server room?\n",
            "```\n",
            "\n",
            "Responses: <['29 computers are now in the server room.', '59 computers', '29', '31 computers are now in the server room.', '29']>\n",
            "\n"
          ]
        }
      ],
      "source": [
        "llm = OpenAI()\n",
        "\n",
        "final_prompt = sc_prompt.format(query=query, responses=str(responses))\n",
        "\n",
        "print(final_prompt)"
      ]
    },
    {
      "cell_type": "code",
      "execution_count": 24,
      "metadata": {
        "colab": {
          "base_uri": "https://localhost:8080/"
        },
        "id": "gjT78-f5jOk8",
        "outputId": "f49b1f1b-15a8-4d11-c28f-692a48348d55"
      },
      "outputs": [
        {
          "name": "stdout",
          "output_type": "stream",
          "text": [
            "\n",
            "29 computers are now in the server room.\n"
          ]
        }
      ],
      "source": [
        "print(llm.invoke(final_prompt))"
      ]
    }
  ],
  "metadata": {
    "accelerator": "GPU",
    "colab": {
      "gpuType": "T4",
      "provenance": []
    },
    "kernelspec": {
      "display_name": "Python 3",
      "name": "python3"
    },
    "language_info": {
      "name": "python"
    }
  },
  "nbformat": 4,
  "nbformat_minor": 0
}
