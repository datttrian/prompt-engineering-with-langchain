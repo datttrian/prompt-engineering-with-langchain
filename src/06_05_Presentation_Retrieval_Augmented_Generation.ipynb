{
  "cells": [
    {
      "cell_type": "code",
      "execution_count": 1,
      "metadata": {
        "id": "gnISdj8lMqKr",
        "colab": {
          "base_uri": "https://localhost:8080/"
        },
        "outputId": "b3eb53d8-16ec-4e69-e803-12dc62ed0255"
      },
      "outputs": [
        {
          "name": "stdout",
          "output_type": "stream",
          "text": [
            "Open AI API Key:··········\n"
          ]
        }
      ],
      "source": [
        "import os\n",
        "import getpass\n",
        "\n",
        "os.environ[\"OPENAI_API_KEY\"] = getpass.getpass(\"Open AI API Key:\")"
      ]
    },
    {
      "cell_type": "markdown",
      "metadata": {
        "id": "CiCAlO7L-VlD"
      },
      "source": [
        "# Retrieval Augmented Generation (RAG)\n",
        "\n",
        "[Meta AI introduced the RAG method](https://ai.meta.com/blog/retrieval-augmented-generation-streamlining-the-creation-of-intelligent-natural-language-processing-models/), emphasizing its potential for knowledge-intensive tasks.\n",
        "\n",
        "## 🔍 **1. What is RAG?**\n",
        "\n",
        "- RAG, or Retrieval Augmented Generation, boosts large language models (LLMs) by tapping into external knowledge sources.\n",
        "\n",
        "- Meta AI pioneered RAG to tackle knowledge-heavy tasks efficiently.\n",
        "\n",
        "- Combines info retrieval with text generation, enabling LLMs to access fresh, reliable info.\n",
        "\n",
        "- Ideal for tasks needing accurate, current data.\n",
        "\n",
        "## 🤔 **2. Why RAG was developed?**\n",
        "\n",
        "- LLMs excel in mimicking human text but face limitations.\n",
        "\n",
        "- High training/fine-tuning costs.\n",
        "\n",
        "- Knowledge is static, outdated post-training.\n",
        "\n",
        "- \"Hallucinating\" issue: confidently giving wrong info.\n",
        "\n",
        "- RAG overcomes these by merging LLM prowess with real-time data access.\n",
        "\n",
        "## 3. 🛠️ **3. How RAG Works?**\n",
        "\n",
        "- On receiving a query (like a question), RAG fetches relvant documents/passages from external sources (like Wikipedia).\n",
        "\n",
        "- Blends these retrieved docs with the query to create an enriched context. This is then processed by a text generator (e.g., GPT-3) to generate the final answer.\n",
        "\n",
        "<img src=\"https://docs.aws.amazon.com/images/sagemaker/latest/dg/images/jumpstart/jumpstart-fm-rag.jpg\">\n",
        "\n",
        "## 🌟 **4. Key Features of RAG:**\n",
        "\n",
        "- RAG stays current, accessing the latest info, unlike static-knowledge LLMs.\n",
        "\n",
        "- Integrates fresh info without the high cost of retraining the whole LLM.\n",
        "\n",
        "- Sources reliable info, reducing wrong answers or \"hallucinations.\"\n",
        "\n",
        "## 🛠 **5. Practical Implementations:**\n",
        "\n",
        "- Answering evolving topic questions.\n",
        "\n",
        "- Useful in domains needing real-time accuracy (e.g., medical, legal).\n",
        "\n",
        "- Boosts chatbots/virtual assistants with factual, updated replies.\n",
        "\n",
        "## 📌 **In Summary:**\n",
        "\n",
        "- RAG: Marrying vast LLM knowledge with the latest real-world info.\n",
        "\n",
        "- Ensures models knowledgeable, up-to-date, and accurate.\n",
        "\n",
        "# 🛠️ **RAG Implementation in LangChain**\n",
        "\n",
        "1. 🧠 **LLM**: The brain of the system, generating human-like text.\n",
        "\n",
        "2. 🌐 **Vector Store**: The heart of retrieval - stores text embeddings for quick, efficient access.\n",
        "\n",
        "3. 🔍 **Vector Store Retriever**: The system's \"search engine,\" finding relevant documents via vector similarities.\n",
        "\n",
        "4. 🔄 **Embedder**: Transforms text into vectors, making it readable for the system.\n",
        "\n",
        "5. 💬 **Prompt**: Captures the initial user query or statement, kicking off the process.\n",
        "\n",
        "6. 📚 **Document Loader**: Manages the import and preparation of documents for processing.\n",
        "\n",
        "7. 🧩 **Document Chunker**: Breaks down large documents into smaller segments for better efficiency.\n",
        "\n",
        "8. 👤 **User Input**: The starting point, where the user's query activates the RAG workflow.\n",
        "\n",
        "\n",
        "# 🌐 **The RAG System and Its Subsystems**\n",
        "\n",
        "### 1. 🗂️ **Index Subsystem**\n",
        "<img src=\"https://python.langchain.com/assets/images/rag_indexing-8160f90a90a33253d0154659cf7d453f.png\">\n",
        "\n",
        "   - **Components**: Embedder, Vector Store, Document Loader, Document Chunker.\n",
        "\n",
        "   - **Function**: Processes and organizes data into an accessible format.\n",
        "\n",
        "   - **Role**: Creates a searchable database of vectorized information.\n",
        "\n",
        "### 2. 🔎 **Retrieval Subsystem**:\n",
        "\n",
        "   - **Components**: User Input, Prompt, Vector Store Retriever.\n",
        "\n",
        "   - **Function**: Matches user queries with relevant data.\n",
        "\n",
        "   - **Role**: Fetches the most pertinent information from the index based on user input.\n",
        "\n",
        "### 3. 🤖 **Augment Subsystem**:\n",
        "\n",
        "   - **Components**: LLM, User Input, Retrieved Data.\n",
        "\n",
        "   - **Function**: Integrates user queries with retrieved data.\n",
        "\n",
        "   - **Role**: Generates accurate and context-rich responses, blending human-like text generation with factually correct information.\n",
        "\n",
        "<!-- <img src=\"https://python.langchain.com/assets/images/rag_retrieval_generation-1046a4668d6bb08786ef73c56d4f228a.png\"> -->\n",
        "\n",
        "Together, these subsystems form a seamless flow, transforming user queries into comprehensive and reliable responses."
      ]
    },
    {
      "cell_type": "markdown",
      "metadata": {
        "id": "iK3gf7TDH9GS"
      },
      "source": [
        "# Load documents\n",
        "There are SO MANY document loaders in LangChain\n",
        "\n",
        "I won't go every single one in this notebook. But, you can check out [the documentation](https://github.com/langchain-ai/langchain/tree/master/libs/langchain/langchain/document_loaders) to see jusy how many are available to you.\n",
        "\n",
        "## 📂 **Understanding Document Loaders in LangChain**\n",
        "\n",
        "- 📚 LangChain document loaders load data from various sources into Document objects.\n",
        "\n",
        "- 📄 A Document is text with metadata.\n",
        "\n",
        "- 🌐 Loaders fetch data from text files, web pages, video transcripts, etc.\n",
        "\n",
        "- 🔄 Main role: Retrieve data for further processing.\n",
        "\n",
        "- 🛠️ Method: Use `load` to fetch data and return it as a Document.\n",
        "\n",
        "- 🧠 Some loaders support lazy loading (data loads into memory only when needed).\n",
        "\n",
        "## 🔧 **How to Use Document Loaders**\n",
        "\n",
        "1. 📥 Import the loader class from `langchain.document_loaders`.\n",
        "\n",
        "2. 🏗️ Create an instance of your chosen class with the directory path.\n",
        "\n",
        "3. 🚀 Use `load()` to load files in the directory into Document format.\n"
      ]
    },
    {
      "cell_type": "code",
      "source": [
        "pip install langchain-community"
      ],
      "metadata": {
        "colab": {
          "base_uri": "https://localhost:8080/"
        },
        "id": "lK5Pxwd7fNMm",
        "outputId": "2db52c98-2d81-403c-ff82-71b6214d4ef8"
      },
      "execution_count": 2,
      "outputs": [
        {
          "output_type": "stream",
          "name": "stdout",
          "text": [
            "Collecting langchain-community\n",
            "  Downloading langchain_community-0.2.4-py3-none-any.whl (2.2 MB)\n",
            "\u001b[?25l     \u001b[90m━━━━━━━━━━━━━━━━━━━━━━━━━━━━━━━━━━━━━━━━\u001b[0m \u001b[32m0.0/2.2 MB\u001b[0m \u001b[31m?\u001b[0m eta \u001b[36m-:--:--\u001b[0m\r\u001b[2K     \u001b[91m━━\u001b[0m\u001b[90m╺\u001b[0m\u001b[90m━━━━━━━━━━━━━━━━━━━━━━━━━━━━━━━━━━━━━\u001b[0m \u001b[32m0.1/2.2 MB\u001b[0m \u001b[31m3.1 MB/s\u001b[0m eta \u001b[36m0:00:01\u001b[0m\r\u001b[2K     \u001b[91m━━━━━━━━━━━━━━━━━━\u001b[0m\u001b[90m╺\u001b[0m\u001b[90m━━━━━━━━━━━━━━━━━━━━━\u001b[0m \u001b[32m1.0/2.2 MB\u001b[0m \u001b[31m13.8 MB/s\u001b[0m eta \u001b[36m0:00:01\u001b[0m\r\u001b[2K     \u001b[91m━━━━━━━━━━━━━━━━━━━━━━━━━━━━━━━━━━━━━━━\u001b[0m\u001b[91m╸\u001b[0m \u001b[32m2.2/2.2 MB\u001b[0m \u001b[31m23.7 MB/s\u001b[0m eta \u001b[36m0:00:01\u001b[0m\r\u001b[2K     \u001b[90m━━━━━━━━━━━━━━━━━━━━━━━━━━━━━━━━━━━━━━━━\u001b[0m \u001b[32m2.2/2.2 MB\u001b[0m \u001b[31m18.2 MB/s\u001b[0m eta \u001b[36m0:00:00\u001b[0m\n",
            "\u001b[?25hRequirement already satisfied: PyYAML>=5.3 in /usr/local/lib/python3.10/dist-packages (from langchain-community) (6.0.1)\n",
            "Requirement already satisfied: SQLAlchemy<3,>=1.4 in /usr/local/lib/python3.10/dist-packages (from langchain-community) (2.0.30)\n",
            "Requirement already satisfied: aiohttp<4.0.0,>=3.8.3 in /usr/local/lib/python3.10/dist-packages (from langchain-community) (3.9.5)\n",
            "Collecting dataclasses-json<0.7,>=0.5.7 (from langchain-community)\n",
            "  Downloading dataclasses_json-0.6.7-py3-none-any.whl (28 kB)\n",
            "Collecting langchain<0.3.0,>=0.2.0 (from langchain-community)\n",
            "  Downloading langchain-0.2.3-py3-none-any.whl (974 kB)\n",
            "\u001b[2K     \u001b[90m━━━━━━━━━━━━━━━━━━━━━━━━━━━━━━━━━━━━━━━━\u001b[0m \u001b[32m974.0/974.0 kB\u001b[0m \u001b[31m30.6 MB/s\u001b[0m eta \u001b[36m0:00:00\u001b[0m\n",
            "\u001b[?25hCollecting langchain-core<0.3.0,>=0.2.0 (from langchain-community)\n",
            "  Downloading langchain_core-0.2.5-py3-none-any.whl (314 kB)\n",
            "\u001b[2K     \u001b[90m━━━━━━━━━━━━━━━━━━━━━━━━━━━━━━━━━━━━━━━━\u001b[0m \u001b[32m314.7/314.7 kB\u001b[0m \u001b[31m8.2 MB/s\u001b[0m eta \u001b[36m0:00:00\u001b[0m\n",
            "\u001b[?25hCollecting langsmith<0.2.0,>=0.1.0 (from langchain-community)\n",
            "  Downloading langsmith-0.1.76-py3-none-any.whl (124 kB)\n",
            "\u001b[2K     \u001b[90m━━━━━━━━━━━━━━━━━━━━━━━━━━━━━━━━━━━━━━━━\u001b[0m \u001b[32m124.9/124.9 kB\u001b[0m \u001b[31m8.2 MB/s\u001b[0m eta \u001b[36m0:00:00\u001b[0m\n",
            "\u001b[?25hRequirement already satisfied: numpy<2,>=1 in /usr/local/lib/python3.10/dist-packages (from langchain-community) (1.25.2)\n",
            "Requirement already satisfied: requests<3,>=2 in /usr/local/lib/python3.10/dist-packages (from langchain-community) (2.31.0)\n",
            "Requirement already satisfied: tenacity<9.0.0,>=8.1.0 in /usr/local/lib/python3.10/dist-packages (from langchain-community) (8.3.0)\n",
            "Requirement already satisfied: aiosignal>=1.1.2 in /usr/local/lib/python3.10/dist-packages (from aiohttp<4.0.0,>=3.8.3->langchain-community) (1.3.1)\n",
            "Requirement already satisfied: attrs>=17.3.0 in /usr/local/lib/python3.10/dist-packages (from aiohttp<4.0.0,>=3.8.3->langchain-community) (23.2.0)\n",
            "Requirement already satisfied: frozenlist>=1.1.1 in /usr/local/lib/python3.10/dist-packages (from aiohttp<4.0.0,>=3.8.3->langchain-community) (1.4.1)\n",
            "Requirement already satisfied: multidict<7.0,>=4.5 in /usr/local/lib/python3.10/dist-packages (from aiohttp<4.0.0,>=3.8.3->langchain-community) (6.0.5)\n",
            "Requirement already satisfied: yarl<2.0,>=1.0 in /usr/local/lib/python3.10/dist-packages (from aiohttp<4.0.0,>=3.8.3->langchain-community) (1.9.4)\n",
            "Requirement already satisfied: async-timeout<5.0,>=4.0 in /usr/local/lib/python3.10/dist-packages (from aiohttp<4.0.0,>=3.8.3->langchain-community) (4.0.3)\n",
            "Collecting marshmallow<4.0.0,>=3.18.0 (from dataclasses-json<0.7,>=0.5.7->langchain-community)\n",
            "  Downloading marshmallow-3.21.3-py3-none-any.whl (49 kB)\n",
            "\u001b[2K     \u001b[90m━━━━━━━━━━━━━━━━━━━━━━━━━━━━━━━━━━━━━━━━\u001b[0m \u001b[32m49.2/49.2 kB\u001b[0m \u001b[31m3.3 MB/s\u001b[0m eta \u001b[36m0:00:00\u001b[0m\n",
            "\u001b[?25hCollecting typing-inspect<1,>=0.4.0 (from dataclasses-json<0.7,>=0.5.7->langchain-community)\n",
            "  Downloading typing_inspect-0.9.0-py3-none-any.whl (8.8 kB)\n",
            "Collecting langchain-text-splitters<0.3.0,>=0.2.0 (from langchain<0.3.0,>=0.2.0->langchain-community)\n",
            "  Downloading langchain_text_splitters-0.2.1-py3-none-any.whl (23 kB)\n",
            "Requirement already satisfied: pydantic<3,>=1 in /usr/local/lib/python3.10/dist-packages (from langchain<0.3.0,>=0.2.0->langchain-community) (2.7.3)\n",
            "Collecting jsonpatch<2.0,>=1.33 (from langchain-core<0.3.0,>=0.2.0->langchain-community)\n",
            "  Downloading jsonpatch-1.33-py2.py3-none-any.whl (12 kB)\n",
            "Collecting packaging<24.0,>=23.2 (from langchain-core<0.3.0,>=0.2.0->langchain-community)\n",
            "  Downloading packaging-23.2-py3-none-any.whl (53 kB)\n",
            "\u001b[2K     \u001b[90m━━━━━━━━━━━━━━━━━━━━━━━━━━━━━━━━━━━━━━━━\u001b[0m \u001b[32m53.0/53.0 kB\u001b[0m \u001b[31m3.8 MB/s\u001b[0m eta \u001b[36m0:00:00\u001b[0m\n",
            "\u001b[?25hCollecting orjson<4.0.0,>=3.9.14 (from langsmith<0.2.0,>=0.1.0->langchain-community)\n",
            "  Downloading orjson-3.10.4-cp310-cp310-manylinux_2_17_x86_64.manylinux2014_x86_64.whl (142 kB)\n",
            "\u001b[2K     \u001b[90m━━━━━━━━━━━━━━━━━━━━━━━━━━━━━━━━━━━━━━━━\u001b[0m \u001b[32m142.7/142.7 kB\u001b[0m \u001b[31m3.2 MB/s\u001b[0m eta \u001b[36m0:00:00\u001b[0m\n",
            "\u001b[?25hRequirement already satisfied: charset-normalizer<4,>=2 in /usr/local/lib/python3.10/dist-packages (from requests<3,>=2->langchain-community) (3.3.2)\n",
            "Requirement already satisfied: idna<4,>=2.5 in /usr/local/lib/python3.10/dist-packages (from requests<3,>=2->langchain-community) (3.7)\n",
            "Requirement already satisfied: urllib3<3,>=1.21.1 in /usr/local/lib/python3.10/dist-packages (from requests<3,>=2->langchain-community) (2.0.7)\n",
            "Requirement already satisfied: certifi>=2017.4.17 in /usr/local/lib/python3.10/dist-packages (from requests<3,>=2->langchain-community) (2024.6.2)\n",
            "Requirement already satisfied: typing-extensions>=4.6.0 in /usr/local/lib/python3.10/dist-packages (from SQLAlchemy<3,>=1.4->langchain-community) (4.12.1)\n",
            "Requirement already satisfied: greenlet!=0.4.17 in /usr/local/lib/python3.10/dist-packages (from SQLAlchemy<3,>=1.4->langchain-community) (3.0.3)\n",
            "Collecting jsonpointer>=1.9 (from jsonpatch<2.0,>=1.33->langchain-core<0.3.0,>=0.2.0->langchain-community)\n",
            "  Downloading jsonpointer-3.0.0-py2.py3-none-any.whl (7.6 kB)\n",
            "Requirement already satisfied: annotated-types>=0.4.0 in /usr/local/lib/python3.10/dist-packages (from pydantic<3,>=1->langchain<0.3.0,>=0.2.0->langchain-community) (0.7.0)\n",
            "Requirement already satisfied: pydantic-core==2.18.4 in /usr/local/lib/python3.10/dist-packages (from pydantic<3,>=1->langchain<0.3.0,>=0.2.0->langchain-community) (2.18.4)\n",
            "Collecting mypy-extensions>=0.3.0 (from typing-inspect<1,>=0.4.0->dataclasses-json<0.7,>=0.5.7->langchain-community)\n",
            "  Downloading mypy_extensions-1.0.0-py3-none-any.whl (4.7 kB)\n",
            "Installing collected packages: packaging, orjson, mypy-extensions, jsonpointer, typing-inspect, marshmallow, jsonpatch, langsmith, dataclasses-json, langchain-core, langchain-text-splitters, langchain, langchain-community\n",
            "  Attempting uninstall: packaging\n",
            "    Found existing installation: packaging 24.0\n",
            "    Uninstalling packaging-24.0:\n",
            "      Successfully uninstalled packaging-24.0\n",
            "Successfully installed dataclasses-json-0.6.7 jsonpatch-1.33 jsonpointer-3.0.0 langchain-0.2.3 langchain-community-0.2.4 langchain-core-0.2.5 langchain-text-splitters-0.2.1 langsmith-0.1.76 marshmallow-3.21.3 mypy-extensions-1.0.0 orjson-3.10.4 packaging-23.2 typing-inspect-0.9.0\n"
          ]
        }
      ]
    },
    {
      "cell_type": "code",
      "execution_count": 3,
      "metadata": {
        "id": "nmKgqy5X_vhA",
        "colab": {
          "base_uri": "https://localhost:8080/"
        },
        "outputId": "a406e0cb-d03d-47dc-9774-f33e66efc85b"
      },
      "outputs": [
        {
          "output_type": "stream",
          "name": "stderr",
          "text": [
            "WARNING:root:USER_AGENT environment variable not set, consider setting it to identify your requests.\n"
          ]
        }
      ],
      "source": [
        "from langchain_community.document_loaders import WebBaseLoader\n",
        "\n",
        "yolo_nas_loader = WebBaseLoader(\"https://deci.ai/blog/pose-estimation-yolo-nas-pose/\").load()\n",
        "\n",
        "decicoder_loader = WebBaseLoader(\"https://deci.ai/blog/decicoder-6b-the-best-multi-language-code-generation-llm-in-its-class/\").load()\n",
        "\n",
        "yolo_newsletter_loader = WebBaseLoader(\"https://deeplearningdaily.substack.com/p/unleashing-the-power-of-yolo-nas\").load()"
      ]
    },
    {
      "cell_type": "code",
      "source": [
        "yolo_newsletter_loader[0]"
      ],
      "metadata": {
        "id": "fhwMj0CTSLli",
        "colab": {
          "base_uri": "https://localhost:8080/"
        },
        "outputId": "71d9ec83-2242-4b1a-d58b-1d1444a76b50"
      },
      "execution_count": 4,
      "outputs": [
        {
          "output_type": "execute_result",
          "data": {
            "text/plain": [
              "Document(page_content=\"\\n\\n\\n\\n\\n\\n\\n\\n\\n\\n\\n\\n\\n\\n\\n\\n\\n\\n\\n\\n\\n\\n\\n\\n\\n\\n\\n\\n\\n\\n\\n\\n\\n\\n\\n\\n\\n\\n\\n\\n\\n\\n\\n\\n\\n\\n\\n\\n\\n\\n\\n\\n\\n\\n\\n\\n\\n\\n\\n\\n\\n\\nUnleashing the Power of YOLO-NAS: A New Era in Object Detection and Computer Vision\\n\\n\\n\\n\\n\\n\\n\\n\\n\\n\\n\\n\\n\\n\\n\\n\\n\\n\\n\\n\\n\\n\\n\\n\\nSubscribeSign inShare this postUnleashing the Power of YOLO-NAS: A New Era in Object Detection and Computer Visiondeeplearningdaily.substack.comCopy linkFacebookEmailNoteOtherUnleashing the Power of YOLO-NAS: A New Era in Object Detection and Computer VisionThe Future of Computer Vision is HereDeep Learning Daily CommunityMay 05, 20236Share this postUnleashing the Power of YOLO-NAS: A New Era in Object Detection and Computer Visiondeeplearningdaily.substack.comCopy linkFacebookEmailNoteOtherShareWhat does it take to make a mark in the fiercely competitive world of object detection?¬†In this newsletter edition, I want to take you on a behind-the-scenes journey of how YOLO-NAS, a novel, groundbreaking object detection architecture that sets a new standard for State-of-the-Art, came into being.Igniting AmbitionOur researchers started experimenting with applying the AutoNAC engine to the object detection task in March 2023.¬†Object detection, a highly competitive computer vision subfield. Many teams worldwide compete in this area, striving for state-of-the-art (SOTA) results.The team had a singular goal: to develop an object detection model to distinguish itself in a highly competitive space. The team understood that even incremental improvements could be groundbreaking, like sprinters working on shaving milliseconds off their times. In their relentless pursuit of pushing the boundaries of performance, they embraced the challenge, knowing that each incremental increase in mAP and reduction in latency could revolutionize the landscape of object detection models.As a team, we also had a secondary aim: demonstrating the capabilities of Deci's AutoNAC engine and bringing exposure to SuperGradients, our powerful, intuitive, and unparalleled training library.¬†And if these graphs indicate anything, we‚Äôve done a good job of what we set out to do.YOLO-NAS compared to previous SOTA on COCOSuperGradients star historyDesigning the BlueprintInspired by the success of modern YOLO architectures, our team set out to create a new quantization-friendly architecture - and it all started with Neural Architecture Search (NAS).NAS:Everything You Need to KnowThe first thing you need to do when performing Neural Architecture Search is define the architecture search space. For YOLO-NAS, our researchers took inspiration from the basic blocks of YOLOv6 and YOLOv8. With the architecture and training regime in place, our researchers harnessed the power of AutoNAC. It intelligently searched a vast space of ~10^14 possible architectures, ultimately zeroing in on three final networks that promised outstanding results. The result is a family of architectures with a novel quantization-friendly basic block: the small, medium, and large versions of YOLO-NAS.With the foundation of YOLO-NAS firmly established, the team was ready to embark on the next critical phase: perfecting the training regime to ensure the full potential of these innovative architectures could be realized.Interested in the technical details of YOLO-NAS? Read the technical blog post.Read the Technical Blog PostPerfecting the Training RegimeThe team devised an advanced and innovative training scheme incorporating several elements, each carefully crafted to extract maximum performance from the model:Pretraining on the extensive Object365 dataset.Employing pseudo-labelled data to enhance learning.Applying knowledge distillation from a pre-trained teacher model to improve performance.After completing the training process, post-training quantization (PTQ) was applied, converting the network into INT8.¬†Testing the Model's VersatilityTo demonstrate the prowess of YOLO-NAS, we tested it on the RoboFlow 100 collection, a diverse dataset ranging from video games to aerial images.Our model outperformed close competitors like YOLOv7 and YOLOv8, proving its potential as a versatile and powerful foundation for transfer learning.Overcoming Quantization ChallengesQuantization-aware training (QAT) can enhance a model's efficiency without sacrificing accuracy, but it's far from a walk in the park.¬†Learn more about QAT hereIt requires quantization-friendly model components, intricate infrastructure, and precise adjustments to settings and hyperparameters. Thankfully, our model was designed with QAT in mind, and SuperGradients' user-friendly interface and expert guidance, we not only overcame these challenges but also improved our model's efficiency without sacrificing accuracy.Tired of all the talk? Want to see YOLO-NAS in action?  Check out this getting started notebook I‚Äôve put together for you.See YOLO-NAS in action!The LaunchpadI‚Äôm proud of the team‚Äôs achievements and the potential of YOLO-NAS, but our journey doesn't end here. As we continue to explore the boundaries of object detection (and deep learning in general), we remain committed to pushing the limits and sharing our progress with you. Our model may not remain unbeatable forever, but our unwavering determination to stay ahead of the curve will keep us on the cutting edge of this dynamic field.We‚Äôre not resting on our laurels. We rely on your support to enhance the object detection game. To achieve this, I urge you to subject YOLO-NAS and SuperGradients to stress tests, push them to their limits, and attempt to break them. Should you encounter any issues or have questions, all you have to do is open an issue on GitHub. SuperGradients is an open-source library, and if you're interested in contributing, please review our contribution guidelines. I hope this behind-the-scenes look at our efforts has piqued your interest and inspired you to follow our journey. Stay tuned for more exciting updates, and don't hesitate to reach out with any questions or feedback. The Team Behind YOLO-NASThe success of YOLO-NAS can be attributed to the hard work, dedication, and brilliance of the following individuals:Research: Amos Gropp, Ido Shahaf, Ran El-Yaniv, Akhiad BercovichEngineering: Ofri Masad, Shay Aharon, Eugene Khvedchenia, Louis Dupont, Kate YurkovaProduct: Shani Perl On behalf of the community, I thank you all for your hard work and for making YOLO-NAS a reality \\uf8ffüëè\\uf8ffüèΩ \\uf8ffüôè\\uf8ffüèΩ!Community Generated ContentIt's impressive how quickly the community embraces and produces content with YOLO-NAS! I want to thank everyone who has shared their exceptional work so far. I know a few examples, but if you know of any additional ones, please share them.‚Ä¢ DagsHub showing our integration into their platform‚Ä¢ Nate Haddad integrating YOLO-NAS into Fast-Track. Check out his project on GitHub and don‚Äôt forget to give it a star ‚≠êÔ∏è!‚Ä¢ Voxel51 on how to load predictions into their platform ‚Ä¢ Nicolai Nielsen‚Äôs intro to YOLO-NAS video‚Ä¢ Chris Alexiuk with a Star Wars Day project using YOLO-NAS‚Ä¢ Code with Aarohi‚Äôs intro to YOLO-NAS video‚Ä¢ Muhammad Moin‚Äôs into to YOLO-NAS video ‚Ä¢ Ritesh Kanjee from Augmented Startups blog post Rise of YOLO-NAS: Discover the 8 Features That Propel It to Object Detection Stardom!‚Ä¢ My starter notebooks on KaggleI‚Äôll see you next week, cheers!Harpreet6Share this postUnleashing the Power of YOLO-NAS: A New Era in Object Detection and Computer Visiondeeplearningdaily.substack.comCopy linkFacebookEmailNoteOtherShareCommentsTopLatestDiscussionsNo postsReady for more?Subscribe¬© 2024 Deep Learning Daily CommunityPrivacy ‚àô Terms ‚àô Collection notice Start WritingGet the appSubstack is the home for great cultureShareCopy linkFacebookEmailNoteOther\\n\\n\\n\\n\\n\\n\\n\\n\\n\\n\\n\\n\\n\\n\\n\\n\\n\\n        This site requires JavaScript to run correctly. Please turn on JavaScript or unblock scripts\\n    \\n\\n\\n\\n\", metadata={'source': 'https://deeplearningdaily.substack.com/p/unleashing-the-power-of-yolo-nas', 'title': 'Unleashing the Power of YOLO-NAS: A New Era in Object Detection and Computer Vision', 'description': 'The Future of Computer Vision is Here', 'language': 'en'})"
            ]
          },
          "metadata": {},
          "execution_count": 4
        }
      ]
    },
    {
      "cell_type": "markdown",
      "metadata": {
        "id": "H1shOpId_vqb"
      },
      "source": [
        "# Chunk documents\n",
        "\n",
        "🔢 **Exploring Text Splitters in LangChain**\n",
        "\n",
        "- 📖 Text splitters divide long texts into\n",
        "smaller, meaningful parts.\n",
        "\n",
        "- 🧩 Aim: Make large texts easier to handle for analysis or processing.\n",
        "\n",
        "### How Text Splitters Work:\n",
        "\n",
        "1. ✂️ Split text into small, meaningful chunks (like sentences).\n",
        "\n",
        "2. 📏 Combine these chunks into a larger one until a certain size is reached.\n",
        "\n",
        "3. 📌 Once the size is reached, start a new chunk with some overlap for context.\n",
        "\n",
        "### Customization Axes:\n",
        "\n",
        "1. 🛠️ How the text is split.\n",
        "\n",
        "2. 📐 How chunk size is measured.\n",
        "\n",
        "## Getting Started with Text Splitters\n",
        "\n",
        "- 🚀 Default choice: `RecursiveCharacterTextSplitter`.\n",
        "\n",
        "- 📋 Works by: Splitting text based on a list of characters.\n",
        "\n",
        "- 🔄 If chunks are too large, it moves to the next character.\n",
        "\n",
        "- 📌 Default split characters: `[\"\\n\\n\", \"\\n\", \" \", \"\"]`.\n",
        "\n",
        "### Additional Controls:\n",
        "\n",
        "- 📏 `length_function`: Defines how chunk length is calculated (default: character count, token counter is common).\n",
        "\n",
        "- 🔍 `chunk_size`: Sets the maximum chunk size.\n",
        "\n",
        "- 🔀 `chunk_overlap`: Determines overlap between chunks for continuity.\n",
        "\n",
        "- 📊 `add_start_index`: Option to include each chunk's start position in the original document in metadata."
      ]
    },
    {
      "cell_type": "code",
      "execution_count": 5,
      "metadata": {
        "id": "fuXm06J1IDs7"
      },
      "outputs": [],
      "source": [
        "from langchain.text_splitter import RecursiveCharacterTextSplitter\n",
        "\n",
        "text_splitter = RecursiveCharacterTextSplitter(\n",
        "    chunk_size = 500,\n",
        "    chunk_overlap = 50,\n",
        "    length_function = len\n",
        ")\n",
        "\n",
        "yolo_nas_chunks = text_splitter.transform_documents(yolo_nas_loader)\n",
        "\n",
        "decicoder_chunks = text_splitter.transform_documents(decicoder_loader)\n",
        "\n",
        "yolo_newsletter_chunks = text_splitter.transform_documents(yolo_newsletter_loader)"
      ]
    },
    {
      "cell_type": "markdown",
      "metadata": {
        "id": "cGzRpURwJqHM"
      },
      "source": [
        "# Index System\n",
        "\n",
        "- 🎯 **Purpose:** Efficiently organize data for easy retrieval.\n",
        "\n",
        "### Steps in the Index System:\n",
        "1. 📚 **Load Documents (Document Loader):**\n",
        "   - Import and read large amounts of data.\n",
        "2. 🧩 **Chunk Documents (Document Chunker):**\n",
        "   - Break down documents into smaller parts for better handling.\n",
        "3. 🌐 **Embed Documents (Embedder):**\n",
        "   - Convert text chunks into vector formats for searchability.\n",
        "4. 💾 **Store Embeddings (Vector Store):**\n",
        "   - Keep embeddings and their textual counterparts for retrieval."
      ]
    },
    {
      "cell_type": "code",
      "source": [
        "pip install langchain-openai faiss-gpu"
      ],
      "metadata": {
        "colab": {
          "base_uri": "https://localhost:8080/"
        },
        "id": "gwt-7kyYfcro",
        "outputId": "53650c15-68df-49b6-8cfc-1e8a7d9fab48"
      },
      "execution_count": 6,
      "outputs": [
        {
          "output_type": "stream",
          "name": "stdout",
          "text": [
            "Collecting langchain-openai\n",
            "  Downloading langchain_openai-0.1.8-py3-none-any.whl (38 kB)\n",
            "Collecting faiss-gpu\n",
            "  Downloading faiss_gpu-1.7.2-cp310-cp310-manylinux_2_17_x86_64.manylinux2014_x86_64.whl (85.5 MB)\n",
            "\u001b[2K     \u001b[90m━━━━━━━━━━━━━━━━━━━━━━━━━━━━━━━━━━━━━━━━\u001b[0m \u001b[32m85.5/85.5 MB\u001b[0m \u001b[31m7.0 MB/s\u001b[0m eta \u001b[36m0:00:00\u001b[0m\n",
            "\u001b[?25hRequirement already satisfied: langchain-core<0.3,>=0.2.2 in /usr/local/lib/python3.10/dist-packages (from langchain-openai) (0.2.5)\n",
            "Collecting openai<2.0.0,>=1.26.0 (from langchain-openai)\n",
            "  Downloading openai-1.33.0-py3-none-any.whl (325 kB)\n",
            "\u001b[2K     \u001b[90m━━━━━━━━━━━━━━━━━━━━━━━━━━━━━━━━━━━━━━━━\u001b[0m \u001b[32m325.5/325.5 kB\u001b[0m \u001b[31m17.6 MB/s\u001b[0m eta \u001b[36m0:00:00\u001b[0m\n",
            "\u001b[?25hCollecting tiktoken<1,>=0.7 (from langchain-openai)\n",
            "  Downloading tiktoken-0.7.0-cp310-cp310-manylinux_2_17_x86_64.manylinux2014_x86_64.whl (1.1 MB)\n",
            "\u001b[2K     \u001b[90m━━━━━━━━━━━━━━━━━━━━━━━━━━━━━━━━━━━━━━━━\u001b[0m \u001b[32m1.1/1.1 MB\u001b[0m \u001b[31m30.1 MB/s\u001b[0m eta \u001b[36m0:00:00\u001b[0m\n",
            "\u001b[?25hRequirement already satisfied: PyYAML>=5.3 in /usr/local/lib/python3.10/dist-packages (from langchain-core<0.3,>=0.2.2->langchain-openai) (6.0.1)\n",
            "Requirement already satisfied: jsonpatch<2.0,>=1.33 in /usr/local/lib/python3.10/dist-packages (from langchain-core<0.3,>=0.2.2->langchain-openai) (1.33)\n",
            "Requirement already satisfied: langsmith<0.2.0,>=0.1.66 in /usr/local/lib/python3.10/dist-packages (from langchain-core<0.3,>=0.2.2->langchain-openai) (0.1.76)\n",
            "Requirement already satisfied: packaging<24.0,>=23.2 in /usr/local/lib/python3.10/dist-packages (from langchain-core<0.3,>=0.2.2->langchain-openai) (23.2)\n",
            "Requirement already satisfied: pydantic<3,>=1 in /usr/local/lib/python3.10/dist-packages (from langchain-core<0.3,>=0.2.2->langchain-openai) (2.7.3)\n",
            "Requirement already satisfied: tenacity<9.0.0,>=8.1.0 in /usr/local/lib/python3.10/dist-packages (from langchain-core<0.3,>=0.2.2->langchain-openai) (8.3.0)\n",
            "Requirement already satisfied: anyio<5,>=3.5.0 in /usr/local/lib/python3.10/dist-packages (from openai<2.0.0,>=1.26.0->langchain-openai) (3.7.1)\n",
            "Requirement already satisfied: distro<2,>=1.7.0 in /usr/lib/python3/dist-packages (from openai<2.0.0,>=1.26.0->langchain-openai) (1.7.0)\n",
            "Collecting httpx<1,>=0.23.0 (from openai<2.0.0,>=1.26.0->langchain-openai)\n",
            "  Downloading httpx-0.27.0-py3-none-any.whl (75 kB)\n",
            "\u001b[2K     \u001b[90m━━━━━━━━━━━━━━━━━━━━━━━━━━━━━━━━━━━━━━━━\u001b[0m \u001b[32m75.6/75.6 kB\u001b[0m \u001b[31m8.4 MB/s\u001b[0m eta \u001b[36m0:00:00\u001b[0m\n",
            "\u001b[?25hRequirement already satisfied: sniffio in /usr/local/lib/python3.10/dist-packages (from openai<2.0.0,>=1.26.0->langchain-openai) (1.3.1)\n",
            "Requirement already satisfied: tqdm>4 in /usr/local/lib/python3.10/dist-packages (from openai<2.0.0,>=1.26.0->langchain-openai) (4.66.4)\n",
            "Requirement already satisfied: typing-extensions<5,>=4.7 in /usr/local/lib/python3.10/dist-packages (from openai<2.0.0,>=1.26.0->langchain-openai) (4.12.1)\n",
            "Requirement already satisfied: regex>=2022.1.18 in /usr/local/lib/python3.10/dist-packages (from tiktoken<1,>=0.7->langchain-openai) (2024.5.15)\n",
            "Requirement already satisfied: requests>=2.26.0 in /usr/local/lib/python3.10/dist-packages (from tiktoken<1,>=0.7->langchain-openai) (2.31.0)\n",
            "Requirement already satisfied: idna>=2.8 in /usr/local/lib/python3.10/dist-packages (from anyio<5,>=3.5.0->openai<2.0.0,>=1.26.0->langchain-openai) (3.7)\n",
            "Requirement already satisfied: exceptiongroup in /usr/local/lib/python3.10/dist-packages (from anyio<5,>=3.5.0->openai<2.0.0,>=1.26.0->langchain-openai) (1.2.1)\n",
            "Requirement already satisfied: certifi in /usr/local/lib/python3.10/dist-packages (from httpx<1,>=0.23.0->openai<2.0.0,>=1.26.0->langchain-openai) (2024.6.2)\n",
            "Collecting httpcore==1.* (from httpx<1,>=0.23.0->openai<2.0.0,>=1.26.0->langchain-openai)\n",
            "  Downloading httpcore-1.0.5-py3-none-any.whl (77 kB)\n",
            "\u001b[2K     \u001b[90m━━━━━━━━━━━━━━━━━━━━━━━━━━━━━━━━━━━━━━━━\u001b[0m \u001b[32m77.9/77.9 kB\u001b[0m \u001b[31m7.2 MB/s\u001b[0m eta \u001b[36m0:00:00\u001b[0m\n",
            "\u001b[?25hCollecting h11<0.15,>=0.13 (from httpcore==1.*->httpx<1,>=0.23.0->openai<2.0.0,>=1.26.0->langchain-openai)\n",
            "  Downloading h11-0.14.0-py3-none-any.whl (58 kB)\n",
            "\u001b[2K     \u001b[90m━━━━━━━━━━━━━━━━━━━━━━━━━━━━━━━━━━━━━━━━\u001b[0m \u001b[32m58.3/58.3 kB\u001b[0m \u001b[31m6.5 MB/s\u001b[0m eta \u001b[36m0:00:00\u001b[0m\n",
            "\u001b[?25hRequirement already satisfied: jsonpointer>=1.9 in /usr/local/lib/python3.10/dist-packages (from jsonpatch<2.0,>=1.33->langchain-core<0.3,>=0.2.2->langchain-openai) (3.0.0)\n",
            "Requirement already satisfied: orjson<4.0.0,>=3.9.14 in /usr/local/lib/python3.10/dist-packages (from langsmith<0.2.0,>=0.1.66->langchain-core<0.3,>=0.2.2->langchain-openai) (3.10.4)\n",
            "Requirement already satisfied: annotated-types>=0.4.0 in /usr/local/lib/python3.10/dist-packages (from pydantic<3,>=1->langchain-core<0.3,>=0.2.2->langchain-openai) (0.7.0)\n",
            "Requirement already satisfied: pydantic-core==2.18.4 in /usr/local/lib/python3.10/dist-packages (from pydantic<3,>=1->langchain-core<0.3,>=0.2.2->langchain-openai) (2.18.4)\n",
            "Requirement already satisfied: charset-normalizer<4,>=2 in /usr/local/lib/python3.10/dist-packages (from requests>=2.26.0->tiktoken<1,>=0.7->langchain-openai) (3.3.2)\n",
            "Requirement already satisfied: urllib3<3,>=1.21.1 in /usr/local/lib/python3.10/dist-packages (from requests>=2.26.0->tiktoken<1,>=0.7->langchain-openai) (2.0.7)\n",
            "Installing collected packages: faiss-gpu, h11, tiktoken, httpcore, httpx, openai, langchain-openai\n",
            "Successfully installed faiss-gpu-1.7.2 h11-0.14.0 httpcore-1.0.5 httpx-0.27.0 langchain-openai-0.1.8 openai-1.33.0 tiktoken-0.7.0\n"
          ]
        }
      ]
    },
    {
      "cell_type": "code",
      "execution_count": 7,
      "metadata": {
        "id": "iGtfN_hiJzVB",
        "colab": {
          "base_uri": "https://localhost:8080/"
        },
        "outputId": "8456473e-9fcb-4105-86e0-941b1ea2ead0"
      },
      "outputs": [
        {
          "output_type": "execute_result",
          "data": {
            "text/plain": [
              "['4f732bdb-21fc-4235-a7a8-f2f8b28d0be2',\n",
              " '4184f4c2-247e-4acf-98e7-2a4e34cd85a7',\n",
              " 'bb7bb5e2-b038-446c-b531-5d173e8ad6cf',\n",
              " 'b8315a35-a569-4f9e-afda-1481e27dbb06',\n",
              " 'dca5687e-3afe-456e-9cd5-3cbaea53869c',\n",
              " 'c17104bd-88c9-4fcc-9f26-0b5a9305119f',\n",
              " '0bf2ee08-a57b-4077-a7b0-af572ae7e18b',\n",
              " 'e2abbd4e-1b7c-4c60-b32f-1dae9fc9f6b7',\n",
              " '1a9c1b26-0f21-4b19-aaeb-9fe87cb2db7c',\n",
              " '33fdd174-cdc2-48e9-913d-33ea7c18bac4',\n",
              " '329eae05-0d60-42ff-9a15-0eefd094b4cc',\n",
              " 'd75f6174-eeaa-4b8d-a156-a823fd585205',\n",
              " 'ceccd3f2-3120-4550-8724-51878514ef6a',\n",
              " '91273ec8-ac7e-43cb-b218-db9f5e8dec54',\n",
              " '323209a2-c4c0-4ab3-805a-9c4c390d2584',\n",
              " '99a94cbf-e504-4867-9786-1cb0474fc20f',\n",
              " 'a0a3cf84-f800-4131-8f76-1fd9fb3396eb',\n",
              " '07d32671-c403-4f65-ab48-04b2e8ba226f',\n",
              " '1761a1ac-d24c-4061-ac6e-c15f0d8a7268']"
            ]
          },
          "metadata": {},
          "execution_count": 7
        }
      ],
      "source": [
        "from langchain_openai import OpenAIEmbeddings\n",
        "from langchain.embeddings import CacheBackedEmbeddings\n",
        "from langchain.vectorstores import FAISS\n",
        "from langchain.storage import LocalFileStore\n",
        "\n",
        "store = LocalFileStore(\"./cachce/\")\n",
        "\n",
        "# create an embedder\n",
        "core_embeddings_model = OpenAIEmbeddings()\n",
        "\n",
        "embedder = CacheBackedEmbeddings.from_bytes_store(\n",
        "    core_embeddings_model,\n",
        "    store,\n",
        "    namespace = core_embeddings_model.model\n",
        ")\n",
        "\n",
        "# store embeddings in vector store\n",
        "vectorstore = FAISS.from_documents(yolo_nas_chunks, embedder)\n",
        "\n",
        "vectorstore.add_documents(decicoder_chunks)\n",
        "\n",
        "vectorstore.add_documents(yolo_newsletter_chunks)"
      ]
    },
    {
      "cell_type": "markdown",
      "metadata": {
        "id": "r4HNkh6pmQ61"
      },
      "source": [
        "# 🔍 **Retrieval System**\n",
        "\n",
        "- 🎯 **Purpose:** Fetch relevant information based on user queries.\n",
        "\n",
        "### Steps in the Retrieval System:\n",
        "\n",
        "1. 💬 **Obtain User Query (User Input):**\n",
        "   - Capture the user's question or statement.\n",
        "\n",
        "2. 🔄 **Embed User Query (Embedder):**\n",
        "   - Convert the user's query into a vector format, aligning with indexed documents.\n",
        "\n",
        "3. 🔍 **Vector Search (Vector Store Retriever):**\n",
        "   - Search for document embeddings in the Vector Store that closely match the user query.\n",
        "\n",
        "4. 📄 **Return Relevant Documents:**\n",
        "   - Provide the top matching documents, ensuring pertinence to the query.\n",
        "\n"
      ]
    },
    {
      "cell_type": "code",
      "execution_count": 8,
      "metadata": {
        "id": "Eq3nKNJ2mRDK"
      },
      "outputs": [],
      "source": [
        "from langchain_openai import ChatOpenAI\n",
        "from langchain_core.output_parsers import StrOutputParser\n",
        "from langchain_core.runnables import RunnablePassthrough\n",
        "from langchain import hub"
      ]
    },
    {
      "cell_type": "code",
      "source": [
        "# instantiate a retriever\n",
        "retriever = vectorstore.as_retriever()"
      ],
      "metadata": {
        "id": "4mDjaXw_6V8B"
      },
      "execution_count": 9,
      "outputs": []
    },
    {
      "cell_type": "code",
      "execution_count": 10,
      "metadata": {
        "id": "D9FGhpMWORwa"
      },
      "outputs": [],
      "source": [
        "llm = ChatOpenAI(model=\"gpt-4-0125-preview\")"
      ]
    },
    {
      "cell_type": "markdown",
      "source": [
        "# 🔍 **Augment System**\n",
        "\n",
        "- 🚀 **Purpose:** Improve LLM's input with additional context.\n",
        "\n",
        "### Steps in the Augment System:\n",
        "\n",
        "1. 🌟 **Create Initial Prompt (Prompt):**\n",
        "   - Begin with the user's initial question or statement.\n",
        "\n",
        "2. 🧩 **Augment Prompt with Retrieved Context (Context Integration):**\n",
        "   - Blend the initial prompt with context from the Vector Store for a richer input.\n",
        "\n",
        "3. ⚡ **Send Augmented Prompt to LLM (Input Enhancement):**\n",
        "   - Pass the enhanced prompt to the LLM.\n",
        "\n",
        "4. 📬 **Receive LLM's Response (Output Reception):**\n",
        "   - Obtain the LLM's comprehensive response after processing the augmented prompt."
      ],
      "metadata": {
        "id": "0UgXQzj56xED"
      }
    },
    {
      "cell_type": "code",
      "source": [
        "pip install langchainhub"
      ],
      "metadata": {
        "id": "5Gu31lNAUHJN",
        "colab": {
          "base_uri": "https://localhost:8080/"
        },
        "outputId": "3d7e3151-f136-4205-8cdc-a7362b2061b1"
      },
      "execution_count": 11,
      "outputs": [
        {
          "output_type": "stream",
          "name": "stdout",
          "text": [
            "Collecting langchainhub\n",
            "  Downloading langchainhub-0.1.18-py3-none-any.whl (4.8 kB)\n",
            "Requirement already satisfied: requests<3,>=2 in /usr/local/lib/python3.10/dist-packages (from langchainhub) (2.31.0)\n",
            "Collecting types-requests<3.0.0.0,>=2.31.0.2 (from langchainhub)\n",
            "  Downloading types_requests-2.32.0.20240602-py3-none-any.whl (15 kB)\n",
            "Requirement already satisfied: charset-normalizer<4,>=2 in /usr/local/lib/python3.10/dist-packages (from requests<3,>=2->langchainhub) (3.3.2)\n",
            "Requirement already satisfied: idna<4,>=2.5 in /usr/local/lib/python3.10/dist-packages (from requests<3,>=2->langchainhub) (3.7)\n",
            "Requirement already satisfied: urllib3<3,>=1.21.1 in /usr/local/lib/python3.10/dist-packages (from requests<3,>=2->langchainhub) (2.0.7)\n",
            "Requirement already satisfied: certifi>=2017.4.17 in /usr/local/lib/python3.10/dist-packages (from requests<3,>=2->langchainhub) (2024.6.2)\n",
            "Installing collected packages: types-requests, langchainhub\n",
            "Successfully installed langchainhub-0.1.18 types-requests-2.32.0.20240602\n"
          ]
        }
      ]
    },
    {
      "cell_type": "code",
      "execution_count": 12,
      "metadata": {
        "id": "uBhaA_nkpU_2"
      },
      "outputs": [],
      "source": [
        "def format_docs(docs):\n",
        "    return \"\\n\\n\".join(doc.page_content for doc in docs)\n",
        "\n",
        "prompt = hub.pull(\"rlm/rag-prompt\")\n",
        "\n",
        "rag_chain = (\n",
        "    {\"context\": retriever | format_docs, \"question\": RunnablePassthrough()}\n",
        "    | prompt\n",
        "    | llm\n",
        "    | StrOutputParser()\n",
        ")"
      ]
    },
    {
      "cell_type": "code",
      "source": [
        "prompt"
      ],
      "metadata": {
        "colab": {
          "base_uri": "https://localhost:8080/"
        },
        "id": "H7Sqnd-lUwS8",
        "outputId": "7f4d14bd-3cbd-407f-912b-fdea9d769f6f"
      },
      "execution_count": 13,
      "outputs": [
        {
          "output_type": "execute_result",
          "data": {
            "text/plain": [
              "ChatPromptTemplate(input_variables=['context', 'question'], metadata={'lc_hub_owner': 'rlm', 'lc_hub_repo': 'rag-prompt', 'lc_hub_commit_hash': '50442af133e61576e74536c6556cefe1fac147cad032f4377b60c436e6cdcb6e'}, messages=[HumanMessagePromptTemplate(prompt=PromptTemplate(input_variables=['context', 'question'], template=\"You are an assistant for question-answering tasks. Use the following pieces of retrieved context to answer the question. If you don't know the answer, just say that you don't know. Use three sentences maximum and keep the answer concise.\\nQuestion: {question} \\nContext: {context} \\nAnswer:\"))])"
            ]
          },
          "metadata": {},
          "execution_count": 13
        }
      ]
    },
    {
      "cell_type": "code",
      "source": [
        "prompt.input_variables"
      ],
      "metadata": {
        "colab": {
          "base_uri": "https://localhost:8080/"
        },
        "id": "PSbOl4EbUXln",
        "outputId": "edf00316-a092-4a6d-fb00-a2a8acc562f5"
      },
      "execution_count": 14,
      "outputs": [
        {
          "output_type": "execute_result",
          "data": {
            "text/plain": [
              "['context', 'question']"
            ]
          },
          "metadata": {},
          "execution_count": 14
        }
      ]
    },
    {
      "cell_type": "code",
      "execution_count": 15,
      "metadata": {
        "id": "Q-NO6i0YS6nY",
        "colab": {
          "base_uri": "https://localhost:8080/",
          "height": 70
        },
        "outputId": "35110408-e634-40ec-c7c3-ef2169b97a7d"
      },
      "outputs": [
        {
          "output_type": "execute_result",
          "data": {
            "text/plain": [
              "\"Neural Architecture Search (NAS) is integral to how Deci creates its models because Deci uses NAS, specifically through its AutoNAC engine, to automate and optimize the process of finding the best neural network architectures. This automation allows Deci to efficiently explore a vast space of possible architectures, finding those that promise outstanding results without requiring the extensive computational resources typically associated with traditional NAS methods. Consequently, Deci's approach makes the development of superior neural networks more practical and accessible.\""
            ],
            "application/vnd.google.colaboratory.intrinsic+json": {
              "type": "string"
            }
          },
          "metadata": {},
          "execution_count": 15
        }
      ],
      "source": [
        "# This is the entire augment system!\n",
        "rag_chain.invoke(\"What does Neural Architecture Search have to do with how Deci creates its models?\")"
      ]
    },
    {
      "cell_type": "code",
      "execution_count": 16,
      "metadata": {
        "id": "jGBkR1ewxHWY",
        "colab": {
          "base_uri": "https://localhost:8080/",
          "height": 70
        },
        "outputId": "c530b68e-f10f-4410-a422-e6536b251805"
      },
      "outputs": [
        {
          "output_type": "execute_result",
          "data": {
            "text/plain": [
              "'DeciCoder is a code generation application notable for its cost-effectiveness and superior accuracy, especially with its DeciCoder-6B model, which excels in performance and efficiency. It outperforms competitors like CodeGen and StarCoder in terms of speed and accuracy across various programming languages, particularly Python. The DeciCoder-6B model, with 6 billion parameters, is designed to offer remarkable memory and computational efficiency, ensuring low latency and high throughput, making it an optimal choice for scaling code generation applications efficiently.'"
            ],
            "application/vnd.google.colaboratory.intrinsic+json": {
              "type": "string"
            }
          },
          "metadata": {},
          "execution_count": 16
        }
      ],
      "source": [
        "rag_chain.invoke(\"What is DeciCoder\")"
      ]
    },
    {
      "cell_type": "markdown",
      "source": [
        "## Return sources"
      ],
      "metadata": {
        "id": "H9DNus0R7mSP"
      }
    },
    {
      "cell_type": "code",
      "source": [
        "from langchain_core.runnables import RunnableParallel\n",
        "\n",
        "rag_chain_from_docs = (\n",
        "    RunnablePassthrough.assign(context=(lambda x: format_docs(x[\"context\"])))\n",
        "    | prompt\n",
        "    | llm\n",
        "    | StrOutputParser()\n",
        ")\n",
        "\n",
        "rag_chain_with_source = RunnableParallel({\"context\": retriever, \"question\": RunnablePassthrough()}).assign(answer=rag_chain_from_docs)"
      ],
      "metadata": {
        "id": "sDTWLOfk7mXX"
      },
      "execution_count": 17,
      "outputs": []
    },
    {
      "cell_type": "code",
      "source": [
        "rag_chain_with_source.invoke(\"What does Neural Architecture Search have to do with how Deci creates its models?\")"
      ],
      "metadata": {
        "id": "7MTFGSfI7mbm",
        "colab": {
          "base_uri": "https://localhost:8080/"
        },
        "outputId": "00c9d30c-5674-4a9d-f94d-7c0e2d333e84"
      },
      "execution_count": 18,
      "outputs": [
        {
          "output_type": "execute_result",
          "data": {
            "text/plain": [
              "{'context': [Document(page_content='which is a product of Deci’s cutting-edge Neural Architecture Search-based AutoNAC engine.', metadata={'source': 'https://deci.ai/blog/decicoder-6b-the-best-multi-language-code-generation-llm-in-its-class/', 'title': 'Introducing DeciCoder-6B: Code LLM Engineered for Accuracy & Cost Efficiency At Scale', 'description': 'DeciCoder-6B, a multi-language code LLM in the 7B parameter class that supports a sequence length of up to 4096 tokens and excels in 8 code languages.', 'language': 'en-US'}),\n",
              "  Document(page_content='Neural Architecture Search is define the architecture search space. For YOLO-NAS, our researchers took inspiration from the basic blocks of YOLOv6 and YOLOv8. With the architecture and training regime in place, our researchers harnessed the power of AutoNAC. It intelligently searched a vast space of ~10^14 possible architectures, ultimately zeroing in on three final networks that promised outstanding results. The result is a family of architectures with a novel quantization-friendly basic', metadata={'source': 'https://deeplearningdaily.substack.com/p/unleashing-the-power-of-yolo-nas', 'title': 'Unleashing the Power of YOLO-NAS: A New Era in Object Detection and Computer Vision', 'description': 'The Future of Computer Vision is Here', 'language': 'en'}),\n",
              "  Document(page_content='The NAS Engine Behind DeciCoder-6B: AutoNAC\\nThe architecture of DeciCoder-6B was developed using Deci’s advanced Neural Architecture Search (NAS) engine, AutoNAC. Traditional NAS methods, while promising, typically require extensive computational resources. AutoNAC circumvents this challenge by automating the search process in a more compute-efficient manner.', metadata={'source': 'https://deci.ai/blog/decicoder-6b-the-best-multi-language-code-generation-llm-in-its-class/', 'title': 'Introducing DeciCoder-6B: Code LLM Engineered for Accuracy & Cost Efficiency At Scale', 'description': 'DeciCoder-6B, a multi-language code LLM in the 7B parameter class that supports a sequence length of up to 4096 tokens and excels in 8 code languages.', 'language': 'en-US'}),\n",
              "  Document(page_content='Harnessing AutoNAC for novel head design\\nFinding an optimal architecture requires navigating the vast architecture search space. But doing so manually is not only tedious but often inefficient. The traditional Neural Architecture Search showed promise in this arena, automating the development of superior neural networks. However, its insatiable thirst for computational resources rendered it impractical for many, confining its usage to a select few with vast computational power.', metadata={'source': 'https://deci.ai/blog/pose-estimation-yolo-nas-pose/', 'title': 'YOLO-NAS Pose - SOTA Pose Estimation Model Using NAS | Deci', 'description': \"Building on YOLO-NAS, we've unveiled its pose estimation sibling: YOLO-NAS Pose. This model offers a superior latency-accuracy balance compared to YOLOv8 Pose.\", 'language': 'en-US'})],\n",
              " 'question': 'What does Neural Architecture Search have to do with how Deci creates its models?',\n",
              " 'answer': \"Neural Architecture Search (NAS) is integral to how Deci creates its models as it uses the AutoNAC engine for automating the development of neural network architectures in a compute-efficient manner. Deci's AutoNAC engine harnesses this technology to intelligently search through an immense space of possible architectures, enabling the creation of optimized and novel neural network designs without the extensive computational resources traditionally required. This process leads to the development of high-performing models, such as the DeciCoder-6B and the YOLO-NAS, by efficiently finding the best architecture among potentially trillions of options.\"}"
            ]
          },
          "metadata": {},
          "execution_count": 18
        }
      ]
    }
  ],
  "metadata": {
    "colab": {
      "provenance": []
    },
    "kernelspec": {
      "display_name": "Python 3",
      "name": "python3"
    },
    "language_info": {
      "name": "python"
    }
  },
  "nbformat": 4,
  "nbformat_minor": 0
}